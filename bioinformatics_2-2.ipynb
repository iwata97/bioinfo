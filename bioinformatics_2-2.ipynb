{
 "cells": [
  {
   "cell_type": "markdown",
   "metadata": {
    "id": "anAzg0iLO6pG"
   },
   "source": [
    "# MNISTで文字判定プログラムを作ってCNNの基本を知る\n",
    "## 概要\n",
    "\n",
    "*   手書きの0~9の数字を判定するプログラムを実装して、画像分類するCNNモデルの概略をつかむ\n",
    "*   データセットはmnistを使う\n",
    "*   CNNモデルはkerasで作成する\n",
    "\n",
    "\n",
    "\n",
    "\n"
   ]
  },
  {
   "cell_type": "markdown",
   "metadata": {
    "id": "YU94CxDuP6vH"
   },
   "source": [
    "## 実装\n",
    "学習して数字を判定するまでの大まかな流れ\n",
    "\n",
    "\n",
    "1.   学習に使うデータの準備\n",
    "2.   学習\n",
    "3.   推論(学習で得られたモデルで判定する)"
   ]
  },
  {
   "cell_type": "markdown",
   "metadata": {
    "id": "vxrybX27QI4T"
   },
   "source": [
    "## step1 学習に使うデータの準備\n",
    "mnistからデータセットをダウンロードする\n",
    "\n",
    "\n",
    "*   keras.load_dataでmnistのデータセットをダウンロードする\n",
    "*   ダウンロードしたデータセットは トレーニング用とバリデーション用に分かれている\n",
    "*   データセットは 画像データ(x)と 正解ラベル(y)を持つ。正解ラベルは画像が示す数字である。"
   ]
  },
  {
   "cell_type": "code",
   "execution_count": 3,
   "metadata": {
    "colab": {
     "base_uri": "https://localhost:8080/"
    },
    "id": "ncwMW2RaP6L9",
    "outputId": "2a4e2817-0883-4dc1-e15c-48bfde9fc8a8"
   },
   "outputs": [
    {
     "name": "stdout",
     "output_type": "stream",
     "text": [
      "Downloading data from https://storage.googleapis.com/tensorflow/tf-keras-datasets/mnist.npz\n",
      "\u001b[1m11490434/11490434\u001b[0m \u001b[32m━━━━━━━━━━━━━━━━━━━━\u001b[0m\u001b[37m\u001b[0m \u001b[1m0s\u001b[0m 0us/step\n"
     ]
    }
   ],
   "source": [
    "import keras\n",
    "from keras.datasets import mnist\n",
    "\n",
    "# mnist からトレーニングデータセットとバリデーションデータセットをダウンロードする\n",
    "# xは画像データ、yは画像の判定ラベル\n",
    "# x_trainデータは28*28ピクセル画像が60000枚 (60000, 28, 28)\n",
    "# x_testデータは28*28ピクセル画像が10000枚 (10000, 28, 28)\n",
    "(x_train, y_train), (x_test, y_test) = mnist.load_data()"
   ]
  },
  {
   "cell_type": "markdown",
   "metadata": {
    "id": "C66c0k1TTY_D"
   },
   "source": [
    "### load_dataの中身"
   ]
  },
  {
   "cell_type": "code",
   "execution_count": 7,
   "metadata": {
    "colab": {
     "base_uri": "https://localhost:8080/",
     "height": 68
    },
    "id": "zGkURbiqOvNs",
    "outputId": "a449cc82-c50b-4a4b-bdcd-d822bc701971"
   },
   "outputs": [
    {
     "data": {
      "text/html": [
       "<style>\n",
       "      .ndarray_repr .ndarray_raw_data {\n",
       "        display: none;\n",
       "      }\n",
       "      .ndarray_repr.show_array .ndarray_raw_data {\n",
       "        display: block;\n",
       "      }\n",
       "      .ndarray_repr.show_array .ndarray_image_preview {\n",
       "        display: none;\n",
       "      }\n",
       "      </style>\n",
       "      <div id=\"id-019e1e33-7746-4e55-9537-c3a80de89d57\" class=\"ndarray_repr\"><pre>ndarray (28, 28) <button style=\"padding: 0 2px;\">show data</button></pre><img src=\"data:image/png;base64,iVBORw0KGgoAAAANSUhEUgAAABwAAAAcCAAAAABXZoBIAAABAElEQVR4nGNgGMyAWUhIqK5jvdSy/9/rGRgYGFhgEnJsVjYCwQwMDAxPJgV+vniQgYGBgREqZ7iXH8r6l/SV4dn7m8gmCt3++/fv37/Htn3/iMW+gDnZf/+e5WbQnoXNNXyMs/5GoQoxwVmf/n9kSGFiwAW49/11wynJoPzx4YIcRlyygR/+/i2XxCWru+vv32nSuGQFYv/83Y3b4p9/fzpAmSyoMnohpiwM1w5h06Q+5enfv39/bcMiJVF09+/fv39P+mFKiTtd/fv3799jgZiBJLT69t+/f/8eDuDEkDJf8+jv379/v7Ryo4qzMDAwMAQGMjBc3/y35wM2V1IfAABFF16Aa0wAOwAAAABJRU5ErkJggg==\" class=\"ndarray_image_preview\" /><pre class=\"ndarray_raw_data\">array([[  0,   0,   0,   0,   0,   0,   0,   0,   0,   0,   0,   0,   0,\n",
       "          0,   0,   0,   0,   0,   0,   0,   0,   0,   0,   0,   0,   0,\n",
       "          0,   0],\n",
       "       [  0,   0,   0,   0,   0,   0,   0,   0,   0,   0,   0,   0,   0,\n",
       "          0,   0,   0,   0,   0,   0,   0,   0,   0,   0,   0,   0,   0,\n",
       "          0,   0],\n",
       "       [  0,   0,   0,   0,   0,   0,   0,   0,   0,   0,   0,   0,   0,\n",
       "          0,   0,   0,   0,   0,   0,   0,   0,   0,   0,   0,   0,   0,\n",
       "          0,   0],\n",
       "       [  0,   0,   0,   0,   0,   0,   0,   0,   0,   0,   0,   0,   0,\n",
       "          0,   0,   0,   0,   0,   0,   0,   0,   0,   0,   0,   0,   0,\n",
       "          0,   0],\n",
       "       [  0,   0,   0,   0,   0,   0,   0,   0,   0,   0,   0,   0,   0,\n",
       "          0,   0,   0,   0,   0,   0,   0,   0,   0,   0,   0,   0,   0,\n",
       "          0,   0],\n",
       "       [  0,   0,   0,   0,   0,   0,   0,   0,   0,   0,   0,   0,   3,\n",
       "         18,  18,  18, 126, 136, 175,  26, 166, 255, 247, 127,   0,   0,\n",
       "          0,   0],\n",
       "       [  0,   0,   0,   0,   0,   0,   0,   0,  30,  36,  94, 154, 170,\n",
       "        253, 253, 253, 253, 253, 225, 172, 253, 242, 195,  64,   0,   0,\n",
       "          0,   0],\n",
       "       [  0,   0,   0,   0,   0,   0,   0,  49, 238, 253, 253, 253, 253,\n",
       "        253, 253, 253, 253, 251,  93,  82,  82,  56,  39,   0,   0,   0,\n",
       "          0,   0],\n",
       "       [  0,   0,   0,   0,   0,   0,   0,  18, 219, 253, 253, 253, 253,\n",
       "        253, 198, 182, 247, 241,   0,   0,   0,   0,   0,   0,   0,   0,\n",
       "          0,   0],\n",
       "       [  0,   0,   0,   0,   0,   0,   0,   0,  80, 156, 107, 253, 253,\n",
       "        205,  11,   0,  43, 154,   0,   0,   0,   0,   0,   0,   0,   0,\n",
       "          0,   0],\n",
       "       [  0,   0,   0,   0,   0,   0,   0,   0,   0,  14,   1, 154, 253,\n",
       "         90,   0,   0,   0,   0,   0,   0,   0,   0,   0,   0,   0,   0,\n",
       "          0,   0],\n",
       "       [  0,   0,   0,   0,   0,   0,   0,   0,   0,   0,   0, 139, 253,\n",
       "        190,   2,   0,   0,   0,   0,   0,   0,   0,   0,   0,   0,   0,\n",
       "          0,   0],\n",
       "       [  0,   0,   0,   0,   0,   0,   0,   0,   0,   0,   0,  11, 190,\n",
       "        253,  70,   0,   0,   0,   0,   0,   0,   0,   0,   0,   0,   0,\n",
       "          0,   0],\n",
       "       [  0,   0,   0,   0,   0,   0,   0,   0,   0,   0,   0,   0,  35,\n",
       "        241, 225, 160, 108,   1,   0,   0,   0,   0,   0,   0,   0,   0,\n",
       "          0,   0],\n",
       "       [  0,   0,   0,   0,   0,   0,   0,   0,   0,   0,   0,   0,   0,\n",
       "         81, 240, 253, 253, 119,  25,   0,   0,   0,   0,   0,   0,   0,\n",
       "          0,   0],\n",
       "       [  0,   0,   0,   0,   0,   0,   0,   0,   0,   0,   0,   0,   0,\n",
       "          0,  45, 186, 253, 253, 150,  27,   0,   0,   0,   0,   0,   0,\n",
       "          0,   0],\n",
       "       [  0,   0,   0,   0,   0,   0,   0,   0,   0,   0,   0,   0,   0,\n",
       "          0,   0,  16,  93, 252, 253, 187,   0,   0,   0,   0,   0,   0,\n",
       "          0,   0],\n",
       "       [  0,   0,   0,   0,   0,   0,   0,   0,   0,   0,   0,   0,   0,\n",
       "          0,   0,   0,   0, 249, 253, 249,  64,   0,   0,   0,   0,   0,\n",
       "          0,   0],\n",
       "       [  0,   0,   0,   0,   0,   0,   0,   0,   0,   0,   0,   0,   0,\n",
       "          0,  46, 130, 183, 253, 253, 207,   2,   0,   0,   0,   0,   0,\n",
       "          0,   0],\n",
       "       [  0,   0,   0,   0,   0,   0,   0,   0,   0,   0,   0,   0,  39,\n",
       "        148, 229, 253, 253, 253, 250, 182,   0,   0,   0,   0,   0,   0,\n",
       "          0,   0],\n",
       "       [  0,   0,   0,   0,   0,   0,   0,   0,   0,   0,  24, 114, 221,\n",
       "        253, 253, 253, 253, 201,  78,   0,   0,   0,   0,   0,   0,   0,\n",
       "          0,   0],\n",
       "       [  0,   0,   0,   0,   0,   0,   0,   0,  23,  66, 213, 253, 253,\n",
       "        253, 253, 198,  81,   2,   0,   0,   0,   0,   0,   0,   0,   0,\n",
       "          0,   0],\n",
       "       [  0,   0,   0,   0,   0,   0,  18, 171, 219, 253, 253, 253, 253,\n",
       "        195,  80,   9,   0,   0,   0,   0,   0,   0,   0,   0,   0,   0,\n",
       "          0,   0],\n",
       "       [  0,   0,   0,   0,  55, 172, 226, 253, 253, 253, 253, 244, 133,\n",
       "         11,   0,   0,   0,   0,   0,   0,   0,   0,   0,   0,   0,   0,\n",
       "          0,   0],\n",
       "       [  0,   0,   0,   0, 136, 253, 253, 253, 212, 135, 132,  16,   0,\n",
       "          0,   0,   0,   0,   0,   0,   0,   0,   0,   0,   0,   0,   0,\n",
       "          0,   0],\n",
       "       [  0,   0,   0,   0,   0,   0,   0,   0,   0,   0,   0,   0,   0,\n",
       "          0,   0,   0,   0,   0,   0,   0,   0,   0,   0,   0,   0,   0,\n",
       "          0,   0],\n",
       "       [  0,   0,   0,   0,   0,   0,   0,   0,   0,   0,   0,   0,   0,\n",
       "          0,   0,   0,   0,   0,   0,   0,   0,   0,   0,   0,   0,   0,\n",
       "          0,   0],\n",
       "       [  0,   0,   0,   0,   0,   0,   0,   0,   0,   0,   0,   0,   0,\n",
       "          0,   0,   0,   0,   0,   0,   0,   0,   0,   0,   0,   0,   0,\n",
       "          0,   0]], dtype=uint8)</pre></div><script>\n",
       "      (() => {\n",
       "      const titles = ['show data', 'hide data'];\n",
       "      let index = 0\n",
       "      document.querySelector('#id-019e1e33-7746-4e55-9537-c3a80de89d57 button').onclick = (e) => {\n",
       "        document.querySelector('#id-019e1e33-7746-4e55-9537-c3a80de89d57').classList.toggle('show_array');\n",
       "        index = (++index) % 2;\n",
       "        document.querySelector('#id-019e1e33-7746-4e55-9537-c3a80de89d57 button').textContent = titles[index];\n",
       "        e.preventDefault();\n",
       "        e.stopPropagation();\n",
       "      }\n",
       "      })();\n",
       "    </script>"
      ],
      "text/plain": [
       "array([[  0,   0,   0,   0,   0,   0,   0,   0,   0,   0,   0,   0,   0,\n",
       "          0,   0,   0,   0,   0,   0,   0,   0,   0,   0,   0,   0,   0,\n",
       "          0,   0],\n",
       "       [  0,   0,   0,   0,   0,   0,   0,   0,   0,   0,   0,   0,   0,\n",
       "          0,   0,   0,   0,   0,   0,   0,   0,   0,   0,   0,   0,   0,\n",
       "          0,   0],\n",
       "       [  0,   0,   0,   0,   0,   0,   0,   0,   0,   0,   0,   0,   0,\n",
       "          0,   0,   0,   0,   0,   0,   0,   0,   0,   0,   0,   0,   0,\n",
       "          0,   0],\n",
       "       [  0,   0,   0,   0,   0,   0,   0,   0,   0,   0,   0,   0,   0,\n",
       "          0,   0,   0,   0,   0,   0,   0,   0,   0,   0,   0,   0,   0,\n",
       "          0,   0],\n",
       "       [  0,   0,   0,   0,   0,   0,   0,   0,   0,   0,   0,   0,   0,\n",
       "          0,   0,   0,   0,   0,   0,   0,   0,   0,   0,   0,   0,   0,\n",
       "          0,   0],\n",
       "       [  0,   0,   0,   0,   0,   0,   0,   0,   0,   0,   0,   0,   3,\n",
       "         18,  18,  18, 126, 136, 175,  26, 166, 255, 247, 127,   0,   0,\n",
       "          0,   0],\n",
       "       [  0,   0,   0,   0,   0,   0,   0,   0,  30,  36,  94, 154, 170,\n",
       "        253, 253, 253, 253, 253, 225, 172, 253, 242, 195,  64,   0,   0,\n",
       "          0,   0],\n",
       "       [  0,   0,   0,   0,   0,   0,   0,  49, 238, 253, 253, 253, 253,\n",
       "        253, 253, 253, 253, 251,  93,  82,  82,  56,  39,   0,   0,   0,\n",
       "          0,   0],\n",
       "       [  0,   0,   0,   0,   0,   0,   0,  18, 219, 253, 253, 253, 253,\n",
       "        253, 198, 182, 247, 241,   0,   0,   0,   0,   0,   0,   0,   0,\n",
       "          0,   0],\n",
       "       [  0,   0,   0,   0,   0,   0,   0,   0,  80, 156, 107, 253, 253,\n",
       "        205,  11,   0,  43, 154,   0,   0,   0,   0,   0,   0,   0,   0,\n",
       "          0,   0],\n",
       "       [  0,   0,   0,   0,   0,   0,   0,   0,   0,  14,   1, 154, 253,\n",
       "         90,   0,   0,   0,   0,   0,   0,   0,   0,   0,   0,   0,   0,\n",
       "          0,   0],\n",
       "       [  0,   0,   0,   0,   0,   0,   0,   0,   0,   0,   0, 139, 253,\n",
       "        190,   2,   0,   0,   0,   0,   0,   0,   0,   0,   0,   0,   0,\n",
       "          0,   0],\n",
       "       [  0,   0,   0,   0,   0,   0,   0,   0,   0,   0,   0,  11, 190,\n",
       "        253,  70,   0,   0,   0,   0,   0,   0,   0,   0,   0,   0,   0,\n",
       "          0,   0],\n",
       "       [  0,   0,   0,   0,   0,   0,   0,   0,   0,   0,   0,   0,  35,\n",
       "        241, 225, 160, 108,   1,   0,   0,   0,   0,   0,   0,   0,   0,\n",
       "          0,   0],\n",
       "       [  0,   0,   0,   0,   0,   0,   0,   0,   0,   0,   0,   0,   0,\n",
       "         81, 240, 253, 253, 119,  25,   0,   0,   0,   0,   0,   0,   0,\n",
       "          0,   0],\n",
       "       [  0,   0,   0,   0,   0,   0,   0,   0,   0,   0,   0,   0,   0,\n",
       "          0,  45, 186, 253, 253, 150,  27,   0,   0,   0,   0,   0,   0,\n",
       "          0,   0],\n",
       "       [  0,   0,   0,   0,   0,   0,   0,   0,   0,   0,   0,   0,   0,\n",
       "          0,   0,  16,  93, 252, 253, 187,   0,   0,   0,   0,   0,   0,\n",
       "          0,   0],\n",
       "       [  0,   0,   0,   0,   0,   0,   0,   0,   0,   0,   0,   0,   0,\n",
       "          0,   0,   0,   0, 249, 253, 249,  64,   0,   0,   0,   0,   0,\n",
       "          0,   0],\n",
       "       [  0,   0,   0,   0,   0,   0,   0,   0,   0,   0,   0,   0,   0,\n",
       "          0,  46, 130, 183, 253, 253, 207,   2,   0,   0,   0,   0,   0,\n",
       "          0,   0],\n",
       "       [  0,   0,   0,   0,   0,   0,   0,   0,   0,   0,   0,   0,  39,\n",
       "        148, 229, 253, 253, 253, 250, 182,   0,   0,   0,   0,   0,   0,\n",
       "          0,   0],\n",
       "       [  0,   0,   0,   0,   0,   0,   0,   0,   0,   0,  24, 114, 221,\n",
       "        253, 253, 253, 253, 201,  78,   0,   0,   0,   0,   0,   0,   0,\n",
       "          0,   0],\n",
       "       [  0,   0,   0,   0,   0,   0,   0,   0,  23,  66, 213, 253, 253,\n",
       "        253, 253, 198,  81,   2,   0,   0,   0,   0,   0,   0,   0,   0,\n",
       "          0,   0],\n",
       "       [  0,   0,   0,   0,   0,   0,  18, 171, 219, 253, 253, 253, 253,\n",
       "        195,  80,   9,   0,   0,   0,   0,   0,   0,   0,   0,   0,   0,\n",
       "          0,   0],\n",
       "       [  0,   0,   0,   0,  55, 172, 226, 253, 253, 253, 253, 244, 133,\n",
       "         11,   0,   0,   0,   0,   0,   0,   0,   0,   0,   0,   0,   0,\n",
       "          0,   0],\n",
       "       [  0,   0,   0,   0, 136, 253, 253, 253, 212, 135, 132,  16,   0,\n",
       "          0,   0,   0,   0,   0,   0,   0,   0,   0,   0,   0,   0,   0,\n",
       "          0,   0],\n",
       "       [  0,   0,   0,   0,   0,   0,   0,   0,   0,   0,   0,   0,   0,\n",
       "          0,   0,   0,   0,   0,   0,   0,   0,   0,   0,   0,   0,   0,\n",
       "          0,   0],\n",
       "       [  0,   0,   0,   0,   0,   0,   0,   0,   0,   0,   0,   0,   0,\n",
       "          0,   0,   0,   0,   0,   0,   0,   0,   0,   0,   0,   0,   0,\n",
       "          0,   0],\n",
       "       [  0,   0,   0,   0,   0,   0,   0,   0,   0,   0,   0,   0,   0,\n",
       "          0,   0,   0,   0,   0,   0,   0,   0,   0,   0,   0,   0,   0,\n",
       "          0,   0]], dtype=uint8)"
      ]
     },
     "execution_count": 7,
     "metadata": {},
     "output_type": "execute_result"
    }
   ],
   "source": [
    "x_train[0]"
   ]
  },
  {
   "cell_type": "markdown",
   "metadata": {
    "id": "5lRBx0gJTjEe"
   },
   "source": [
    "この画像の正解ラベル y_train[0] は 5"
   ]
  },
  {
   "cell_type": "markdown",
   "metadata": {
    "id": "qMI9RbUxTsUa"
   },
   "source": [
    "### データの前処理\n",
    "正解ラベル(y)を 10個の確率データ の形式に変換する。今の正解ラベルは 1〜9のラベルになっており、学習モデルの出力形式である10個の確率データに合わないため。\n",
    "例: [0, 1, ..., 0]。左から数字1,2, ... 9の確率\n",
    "画像データ(x)は扱いやすいように 0~1の間の数値にする。今は min:0(白) 〜 max:255(黒)を表す。"
   ]
  },
  {
   "cell_type": "code",
   "execution_count": 9,
   "metadata": {
    "id": "6mJmqpacTvtC"
   },
   "outputs": [],
   "source": [
    "from keras.utils import to_categorical\n",
    "\n",
    "# mnistの画像データはグレースケール画像であり、min:0(白)~max:255(黒)を表す。入力を0~1の範囲にした方が都合がよいので255で割る。\n",
    "X_train = x_train.reshape(60000, 28,28,1)/255\n",
    "X_test = x_test.reshape(10000, 28,28,1)/255\n",
    "# 学習モデルの出力が 10個の確率データ(例: [0, 1, ..., 0])になるので、今の形式(画像が0~9のうちのどの数字か)はかみ合わない。そこで形式をそろえるために変換する\n",
    "Y_train = to_categorical(y_train, 10)\n",
    "Y_test = to_categorical(y_test, 10)"
   ]
  },
  {
   "cell_type": "markdown",
   "metadata": {
    "id": "vR-ZG6DAU25t"
   },
   "source": [
    "## step2 学習\n",
    "### 学習モデルを用意する\n",
    "\n",
    "kerasのSequentialモデルを使って学習モデルを作成する\n",
    "*   Sequentialモデルはニューラルネットワークを構築するための1つの方法\n",
    "*   ニューラルネットワークは複数の層（レイヤー）で構成される。Sequentialでは層を1つずつ積み重ねて構築していく。\n"
   ]
  },
  {
   "cell_type": "code",
   "execution_count": 10,
   "metadata": {
    "colab": {
     "base_uri": "https://localhost:8080/"
    },
    "id": "EGcVPW60U2om",
    "outputId": "0fff4b75-7e74-41fe-9db2-c43478e3715b"
   },
   "outputs": [
    {
     "name": "stderr",
     "output_type": "stream",
     "text": [
      "/usr/local/lib/python3.11/dist-packages/keras/src/layers/convolutional/base_conv.py:107: UserWarning: Do not pass an `input_shape`/`input_dim` argument to a layer. When using Sequential models, prefer using an `Input(shape)` object as the first layer in the model instead.\n",
      "  super().__init__(activity_regularizer=activity_regularizer, **kwargs)\n"
     ]
    }
   ],
   "source": [
    "from keras.models import Sequential\n",
    "from keras.layers import Dense , Activation, Convolution2D , MaxPooling2D, Flatten\n",
    "\n",
    "model = Sequential()\n",
    "model.add(Convolution2D(10, (5,5), input_shape=(28,28,1), activation=\"relu\")) # 2D畳み込み層\n",
    "model.add(MaxPooling2D(2,2)) # Maxプーリング層\n",
    "model.add(Convolution2D(10, (5,5), padding=\"same\"))\n",
    "model.add(MaxPooling2D(2,2))\n",
    "model.add(Convolution2D(10, (5,5), padding=\"same\"))\n",
    "model.add(MaxPooling2D(2,2))\n",
    "model.add(Flatten()) # 平坦化層。入力画像を１次元配列に変換して出力する。全結合層に接続する前に使われる。\n",
    "model.add(Dense(10, activation=\"softmax\")) # 全結合層"
   ]
  },
  {
   "cell_type": "markdown",
   "metadata": {
    "id": "MMX5HiJKVZk4"
   },
   "source": [
    "### 畳み込み層(Convolution)とは\n",
    "*   画像の特徴点を見つけること\n",
    "*   画像にカーネルを充てることで特徴点(特徴マップ)を得る\n",
    "*   カーネルの数字によって抽出できる特徴が変わる。\n",
    "*   CNNにおいてカーネルが重みであり、よいCNNモデルとは最適なカーネルを持ったモデルのことを言う。\n",
    "\n"
   ]
  },
  {
   "cell_type": "markdown",
   "metadata": {
    "id": "GmE9gYsYVbk-"
   },
   "source": [
    "### プーリング層(Pooling)とは\n",
    "*   識別に不必要な特徴量をそぎ落とす\n",
    "*   識別に必要な特徴量を抽出する処理"
   ]
  },
  {
   "cell_type": "markdown",
   "metadata": {
    "id": "derHJ1jEVyc5"
   },
   "source": [
    "### 全結合層(Dense)とは\n",
    "\n",
    "\n",
    "*   畳み込み層も、プーリング層も、出力は画像のまま(特徴マップ)である。\n",
    "*   最終的には画像を与えると、1~9のように識別したいので、出力を１次元にしたい。そのために全結合層がある。\n",
    "*   全結合層の前にFlatten層で平坦化する"
   ]
  },
  {
   "cell_type": "code",
   "execution_count": 12,
   "metadata": {
    "colab": {
     "base_uri": "https://localhost:8080/"
    },
    "id": "GlrsoV-3VZVT",
    "outputId": "ede8c4ae-d1e7-46fe-e4d6-08c866e8c21e"
   },
   "outputs": [
    {
     "name": "stdout",
     "output_type": "stream",
     "text": [
      "\u001b[1m600/600\u001b[0m \u001b[32m━━━━━━━━━━━━━━━━━━━━\u001b[0m\u001b[37m\u001b[0m \u001b[1m26s\u001b[0m 42ms/step - accuracy: 0.7577 - loss: 0.7847 - val_accuracy: 0.9615 - val_loss: 0.1323\n",
      "loss: 0.13229016959667206\n",
      "accuracy: 0.9614999890327454\n"
     ]
    }
   ],
   "source": [
    "from keras.callbacks import EarlyStopping\n",
    "\n",
    "model.compile(optimizer='adam', loss='categorical_crossentropy', metrics=[\"accuracy\"])\n",
    "\n",
    "# 学習\n",
    "model.fit(X_train, Y_train, epochs=1, batch_size=100, validation_data=(X_test, Y_test), callbacks=[EarlyStopping()])\n",
    "\n",
    "# モデル評価\n",
    "score = model.evaluate(X_test, Y_test, verbose=0)\n",
    "print(\"loss:\", score[0])\n",
    "print(\"accuracy:\", score[1])"
   ]
  },
  {
   "cell_type": "markdown",
   "metadata": {
    "id": "MdAL-4GVWY17"
   },
   "source": [
    "## step3 推論してみる"
   ]
  },
  {
   "cell_type": "code",
   "execution_count": 16,
   "metadata": {
    "colab": {
     "base_uri": "https://localhost:8080/",
     "height": 1000
    },
    "id": "ttubDyQIWYlG",
    "outputId": "699ca931-fa38-46ed-f9f8-1d9080afe868"
   },
   "outputs": [
    {
     "name": "stderr",
     "output_type": "stream",
     "text": [
      "WARNING:absl:You are saving your model as an HDF5 file via `model.save()` or `keras.saving.save_model(model)`. This file format is considered legacy. We recommend using instead the native Keras format, e.g. `model.save('my_model.keras')` or `keras.saving.save_model(model, 'my_model.keras')`. \n",
      "WARNING:absl:Compiled the loaded model, but the compiled metrics have yet to be built. `model.compile_metrics` will be empty until you train or evaluate the model.\n"
     ]
    },
    {
     "name": "stdout",
     "output_type": "stream",
     "text": [
      "\u001b[1m1/1\u001b[0m \u001b[32m━━━━━━━━━━━━━━━━━━━━\u001b[0m\u001b[37m\u001b[0m \u001b[1m0s\u001b[0m 170ms/step\n",
      "判定結果= 7\n"
     ]
    },
    {
     "data": {
      "text/html": [
       "<div style=\"max-width:800px; border: 1px solid var(--colab-border-color);\"><style>\n",
       "      pre.function-repr-contents {\n",
       "        overflow-x: auto;\n",
       "        padding: 8px 12px;\n",
       "        max-height: 500px;\n",
       "      }\n",
       "\n",
       "      pre.function-repr-contents.function-repr-contents-collapsed {\n",
       "        cursor: pointer;\n",
       "        max-height: 100px;\n",
       "      }\n",
       "    </style>\n",
       "    <pre style=\"white-space: initial; background:\n",
       "         var(--colab-secondary-surface-color); padding: 8px 12px;\n",
       "         border-bottom: 1px solid var(--colab-border-color);\"><b>matplotlib.pyplot.show</b><br/>def show(*args, **kwargs) -&gt; None</pre><pre class=\"function-repr-contents function-repr-contents-collapsed\" style=\"\"><a class=\"filepath\" style=\"display:none\" href=\"#\">/usr/local/lib/python3.11/dist-packages/matplotlib/pyplot.py</a>Display all open figures.\n",
       "\n",
       "Parameters\n",
       "----------\n",
       "block : bool, optional\n",
       "    Whether to wait for all figures to be closed before returning.\n",
       "\n",
       "    If `True` block and run the GUI main loop until all figure windows\n",
       "    are closed.\n",
       "\n",
       "    If `False` ensure that all figure windows are displayed and return\n",
       "    immediately.  In this case, you are responsible for ensuring\n",
       "    that the event loop is running to have responsive figures.\n",
       "\n",
       "    Defaults to True in non-interactive mode and to False in interactive\n",
       "    mode (see `.pyplot.isinteractive`).\n",
       "\n",
       "See Also\n",
       "--------\n",
       "ion : Enable interactive mode, which shows / updates the figure after\n",
       "      every plotting command, so that calling ``show()`` is not necessary.\n",
       "ioff : Disable interactive mode.\n",
       "savefig : Save the figure to an image file instead of showing it on screen.\n",
       "\n",
       "Notes\n",
       "-----\n",
       "**Saving figures to file and showing a window at the same time**\n",
       "\n",
       "If you want an image file as well as a user interface window, use\n",
       "`.pyplot.savefig` before `.pyplot.show`. At the end of (a blocking)\n",
       "``show()`` the figure is closed and thus unregistered from pyplot. Calling\n",
       "`.pyplot.savefig` afterwards would save a new and thus empty figure. This\n",
       "limitation of command order does not apply if the show is non-blocking or\n",
       "if you keep a reference to the figure and use `.Figure.savefig`.\n",
       "\n",
       "**Auto-show in jupyter notebooks**\n",
       "\n",
       "The jupyter backends (activated via ``%matplotlib inline``,\n",
       "``%matplotlib notebook``, or ``%matplotlib widget``), call ``show()`` at\n",
       "the end of every cell by default. Thus, you usually don&#x27;t have to call it\n",
       "explicitly there.</pre>\n",
       "      <script>\n",
       "      if (google.colab.kernel.accessAllowed && google.colab.files && google.colab.files.view) {\n",
       "        for (const element of document.querySelectorAll('.filepath')) {\n",
       "          element.style.display = 'block'\n",
       "          element.onclick = (event) => {\n",
       "            event.preventDefault();\n",
       "            event.stopPropagation();\n",
       "            google.colab.files.view(element.textContent, 569);\n",
       "          };\n",
       "        }\n",
       "      }\n",
       "      for (const element of document.querySelectorAll('.function-repr-contents')) {\n",
       "        element.onclick = (event) => {\n",
       "          event.preventDefault();\n",
       "          event.stopPropagation();\n",
       "          element.classList.toggle('function-repr-contents-collapsed');\n",
       "        };\n",
       "      }\n",
       "      </script>\n",
       "      </div>"
      ],
      "text/plain": [
       "<function matplotlib.pyplot.show(close=None, block=None)>"
      ]
     },
     "execution_count": 16,
     "metadata": {},
     "output_type": "execute_result"
    },
    {
     "data": {
      "image/png": "[encoded data removed]",
      "text/plain": [
       "<Figure size 640x480 with 1 Axes>"
      ]
     },
     "metadata": {},
     "output_type": "display_data"
    }
   ],
   "source": [
    "from keras.models import load_model\n",
    "import numpy as np\n",
    "from matplotlib import pyplot as plt\n",
    "\n",
    "# 学習済みモデルを保存しておく\n",
    "model.save('MNIST_NN.h5')\n",
    "MNIST_NN = load_model('MNIST_NN.h5')\n",
    "\n",
    "# 学習済みモデルに、mnistのバリデーション画像を渡して推論してみる\n",
    "predicted = MNIST_NN.predict(x_test[0].reshape(1, 28, 28, 1))\n",
    "print(\"判定結果=\", np.argmax(predicted)) # 最も確率の高い数字を出力する\n",
    "plt.imshow(x_test[0], cmap=plt.cm.gray_r)\n",
    "plt.show"
   ]
  },
  {
   "cell_type": "markdown",
   "metadata": {
    "id": "71TT8F-1q5gj"
   },
   "source": [
    "# 付録: 数字を書いて予測させてみよう\n",
    "紙に書いた数字をカメラから読ませて、数字を当てさせる"
   ]
  },
  {
   "cell_type": "code",
   "execution_count": 20,
   "metadata": {
    "id": "aEr3-_XnY2SF"
   },
   "outputs": [],
   "source": [
    "from IPython.display import display, Javascript\n",
    "from google.colab.output import eval_js\n",
    "from IPython.display import Image\n",
    "import cv2\n",
    "import numpy as np\n",
    "from PIL import Image as PILImage\n",
    "import io\n",
    "\n",
    "# カメラで写真を撮るためのJavaScript\n",
    "def take_photo(filename='photo.jpg', quality=0.8):\n",
    "    js = Javascript('''\n",
    "      async function takePhoto(quality) {\n",
    "        const div = document.createElement('div');\n",
    "        const capture = document.createElement('button');\n",
    "        capture.textContent = '📷 撮影';\n",
    "        div.appendChild(capture);\n",
    "\n",
    "        const video = document.createElement('video');\n",
    "        video.style.display = 'block';\n",
    "        const stream = await navigator.mediaDevices.getUserMedia({video: true});\n",
    "\n",
    "        document.body.appendChild(div);\n",
    "        div.appendChild(video);\n",
    "        video.srcObject = stream;\n",
    "        await video.play();\n",
    "\n",
    "        // 解像度\n",
    "        google.colab.output.setIframeHeight(document.documentElement.scrollHeight, true);\n",
    "\n",
    "        await new Promise((resolve) => capture.onclick = resolve);\n",
    "\n",
    "        const canvas = document.createElement('canvas');\n",
    "        canvas.width = video.videoWidth;\n",
    "        canvas.height = video.videoHeight;\n",
    "        canvas.getContext('2d').drawImage(video, 0, 0);\n",
    "        stream.getTracks().forEach(track => track.stop());\n",
    "        div.remove();\n",
    "\n",
    "        return canvas.toDataURL('image/jpeg', quality);\n",
    "      }\n",
    "      takePhoto({quality: %f});\n",
    "    ''' % quality)\n",
    "    display(js)\n",
    "    data = eval_js(\"takePhoto()\")\n",
    "    binary = b64decode(data.split(',')[1])\n",
    "    with open(filename, 'wb') as f:\n",
    "        f.write(binary)\n",
    "    return filename\n"
   ]
  },
  {
   "cell_type": "code",
   "execution_count": 29,
   "metadata": {
    "colab": {
     "base_uri": "https://localhost:8080/",
     "height": 90
    },
    "id": "Mu1QWMtoqExC",
    "outputId": "3c3f5300-7baf-4ac2-db44-1e0a92a92e51"
   },
   "outputs": [
    {
     "data": {
      "application/javascript": [
       "\n",
       "      async function takePhoto(quality) {\n",
       "        const div = document.createElement('div');\n",
       "        const capture = document.createElement('button');\n",
       "        capture.textContent = '📷 撮影';\n",
       "        div.appendChild(capture);\n",
       "\n",
       "        const video = document.createElement('video');\n",
       "        video.style.display = 'block';\n",
       "        const stream = await navigator.mediaDevices.getUserMedia({video: true});\n",
       "\n",
       "        document.body.appendChild(div);\n",
       "        div.appendChild(video);\n",
       "        video.srcObject = stream;\n",
       "        await video.play();\n",
       "\n",
       "        // 解像度\n",
       "        google.colab.output.setIframeHeight(document.documentElement.scrollHeight, true);\n",
       "\n",
       "        await new Promise((resolve) => capture.onclick = resolve);\n",
       "\n",
       "        const canvas = document.createElement('canvas');\n",
       "        canvas.width = video.videoWidth;\n",
       "        canvas.height = video.videoHeight;\n",
       "        canvas.getContext('2d').drawImage(video, 0, 0);\n",
       "        stream.getTracks().forEach(track => track.stop());\n",
       "        div.remove();\n",
       "\n",
       "        return canvas.toDataURL('image/jpeg', quality);\n",
       "      }\n",
       "      takePhoto({quality: 0.800000});\n",
       "    "
      ],
      "text/plain": [
       "<IPython.core.display.Javascript object>"
      ]
     },
     "metadata": {},
     "output_type": "display_data"
    },
    {
     "name": "stderr",
     "output_type": "stream",
     "text": [
      "WARNING:absl:Compiled the loaded model, but the compiled metrics have yet to be built. `model.compile_metrics` will be empty until you train or evaluate the model.\n"
     ]
    },
    {
     "name": "stdout",
     "output_type": "stream",
     "text": [
      "\u001b[1m1/1\u001b[0m \u001b[32m━━━━━━━━━━━━━━━━━━━━\u001b[0m\u001b[37m\u001b[0m \u001b[1m0s\u001b[0m 71ms/step\n",
      "📌 予測された数字: 8\n"
     ]
    }
   ],
   "source": [
    "from base64 import b64decode\n",
    "from tensorflow.keras.models import load_model\n",
    "\n",
    "# 画像を撮影\n",
    "photo_path = take_photo()\n",
    "\n",
    "# モデルを読み込み（学習済みMNIST CNNモデル）\n",
    "model = load_model(\"MNIST_NN.h5\")\n",
    "\n",
    "# 画像を読み込んで前処理\n",
    "img = PILImage.open(photo_path).convert('L')  # グレースケール\n",
    "img = img.resize((28, 28))  # リサイズ\n",
    "img_array = np.array(img)\n",
    "img_array = 255 - img_array  # 白黒反転\n",
    "img_array = img_array.astype('float32') / 255.0\n",
    "img_array = img_array.reshape(1, 28, 28, 1)\n",
    "\n",
    "# 推論\n",
    "pred = model.predict(img_array)\n",
    "predicted_digit = np.argmax(pred)\n",
    "\n",
    "# 結果表示\n",
    "print(\"📌 予測された数字:\", predicted_digit)\n"
   ]
  },
  {
   "cell_type": "markdown",
   "metadata": {
    "id": "o24i82bFsl2-"
   },
   "source": [
    "参考Webページ\n",
    "https://qiita.com/mttt/items/781e8bcc3c22d872c2e2"
   ]
  }
 ],
 "metadata": {
  "colab": {
   "provenance": []
  },
  "kernelspec": {
   "display_name": "Python 3 (ipykernel)",
   "language": "python",
   "name": "python3"
  },
  "language_info": {
   "codemirror_mode": {
    "name": "ipython",
    "version": 3
   },
   "file_extension": ".py",
   "mimetype": "text/x-python",
   "name": "python",
   "nbconvert_exporter": "python",
   "pygments_lexer": "ipython3",
   "version": "3.9.7"
  }
 },
 "nbformat": 4,
 "nbformat_minor": 4
}
