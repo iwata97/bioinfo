{
 "cells": [
  {
   "cell_type": "markdown",
   "metadata": {
    "id": "txcWFCTrN4LZ"
   },
   "source": [
    "# 🧬 シングルセル解析\n",
    "このノートブックでは、`scanpy` を用いて、ヒト末梢血単核細胞（PBMC）から得られた scRNA-seq データ（PBMC3K）を処理し、クラスタリングと PanglaoDB マーカーによる細胞型推定を行う。\n",
    "\n",
    "---\n",
    "## 📚 手順概要\n",
    "\n",
    "1. データ読み込み（PBMC3k）\n",
    "2. 品質管理（QC）と前処理\n",
    "3. 正規化とスケーリング\n",
    "4. 次元削減とクラスタリング\n",
    "5. クラスタごとのマーカー遺伝子抽出\n",
    "6. PanglaoDBのマーカー遺伝子を読み込み\n",
    "7. クラスタごとに細胞型を推定（PanglaoDBと照合）\n",
    "8. 細胞型ラベルを各細胞に割り当てる\n",
    "9. 細胞型ラベルでUMAPを描画"
   ]
  },
  {
   "cell_type": "markdown",
   "metadata": {
    "id": "89gpkyIdN8-n"
   },
   "source": [
    "## 🚀 ライブラリのインストール（初回のみ）"
   ]
  },
  {
   "cell_type": "code",
   "execution_count": null,
   "metadata": {
    "colab": {
     "base_uri": "https://localhost:8080/"
    },
    "id": "i4DqUa3-T9gJ",
    "outputId": "acac98a3-fac7-4064-8eee-fbdc9ad9d80b"
   },
   "outputs": [],
   "source": [
    "!pip install scanpy\n",
    "!pip install igraph\n",
    "!pip install leidenalg"
   ]
  },
  {
   "cell_type": "markdown",
   "metadata": {
    "id": "I--Zu_NUOI_r"
   },
   "source": [
    "関連ライブラリを読み込む"
   ]
  },
  {
   "cell_type": "code",
   "execution_count": null,
   "metadata": {
    "id": "MDzwgDILOL8I"
   },
   "outputs": [],
   "source": [
    "import scanpy as sc\n",
    "import pandas as pd"
   ]
  },
  {
   "cell_type": "markdown",
   "metadata": {
    "id": "DAO2HbOiUD7C"
   },
   "source": [
    "## 📥 1. データ読み込み（PBMC3k）"
   ]
  },
  {
   "cell_type": "code",
   "execution_count": null,
   "metadata": {
    "id": "Yet5K1W2UEmb"
   },
   "outputs": [],
   "source": [
    "adata = sc.datasets.pbmc3k()"
   ]
  },
  {
   "cell_type": "code",
   "execution_count": null,
   "metadata": {
    "colab": {
     "base_uri": "https://localhost:8080/"
    },
    "id": "qZJvf_EXUJ5x",
    "outputId": "4d7a1b0e-f882-45d4-bef4-0bd2885307d0"
   },
   "outputs": [],
   "source": [
    "adata"
   ]
  },
  {
   "cell_type": "markdown",
   "metadata": {
    "id": "mseV1-_jUNlf"
   },
   "source": [
    "2700細胞 x 32738遺伝子のAnnDataが作成されました。"
   ]
  },
  {
   "cell_type": "markdown",
   "metadata": {
    "id": "t9CTPXFTUQ3y"
   },
   "source": [
    "各細胞の全リードに対して占める割合が最も高い遺伝子を表示します。"
   ]
  },
  {
   "cell_type": "code",
   "execution_count": null,
   "metadata": {
    "colab": {
     "base_uri": "https://localhost:8080/",
     "height": 503
    },
    "id": "QuQMVdVxUOCY",
    "outputId": "79c177aa-0a9c-4273-a632-c466bf94391f"
   },
   "outputs": [],
   "source": [
    "sc.pl.highest_expr_genes(adata, n_top=20, )"
   ]
  },
  {
   "cell_type": "markdown",
   "metadata": {
    "id": "Y1ZRXncC4DBv"
   },
   "source": [
    "ここからどんどんフィルタリングします。"
   ]
  },
  {
   "cell_type": "markdown",
   "metadata": {
    "id": "Hvf22jpEo5ke"
   },
   "source": [
    "## 🔬 2. 品質管理（QC）と前処理\n",
    "発現遺伝子数が200未満の細胞、発現細胞数が3未満の遺伝子をフィルタします。"
   ]
  },
  {
   "cell_type": "code",
   "execution_count": null,
   "metadata": {
    "id": "qJf4LBJso9Rq"
   },
   "outputs": [],
   "source": [
    "sc.pp.filter_cells(adata, min_genes=200)\n",
    "sc.pp.filter_genes(adata, min_cells=3)"
   ]
  },
  {
   "cell_type": "code",
   "execution_count": null,
   "metadata": {
    "colab": {
     "base_uri": "https://localhost:8080/"
    },
    "id": "J8Vr-MNdo-uL",
    "outputId": "efb3abd8-8ee2-4725-b797-86f968e4d865"
   },
   "outputs": [],
   "source": [
    "adata"
   ]
  },
  {
   "cell_type": "markdown",
   "metadata": {
    "id": "_LQQph21pSBa"
   },
   "source": [
    "発現細胞数が3未満の19,024遺伝子がフィルタされ、2700細胞 x 13714遺伝子のAnnDataになりました。"
   ]
  },
  {
   "cell_type": "markdown",
   "metadata": {
    "id": "-yupG45apVyy"
   },
   "source": [
    "次に、品質評価に重要なミトコンドリア遺伝子の発現量を計測します。 ミトコンドリアの発現割合が高い細胞は死細胞とみなされます。 (Lun, McCarthy & Marioni, 2017)"
   ]
  },
  {
   "cell_type": "code",
   "execution_count": null,
   "metadata": {
    "id": "hqj579KYpQAo"
   },
   "outputs": [],
   "source": [
    "adata.var['mt'] = adata.var_names.str.startswith('MT-')\n",
    "sc.pp.calculate_qc_metrics(adata, qc_vars=['mt'], percent_top=None, log1p=False, inplace=True)"
   ]
  },
  {
   "cell_type": "markdown",
   "metadata": {
    "id": "RSC4e_VoCcFg"
   },
   "source": [
    "異常な細胞（ミトコンドリア高い、遺伝子数多すぎ）を除去）\n",
    "ミトコンドリア由来の遺伝子が多すぎる細胞(5%以上)、またはtotal countsの値が多すぎる細胞(2500以上)を削除します。"
   ]
  },
  {
   "cell_type": "code",
   "execution_count": null,
   "metadata": {
    "colab": {
     "base_uri": "https://localhost:8080/"
    },
    "id": "vZhuk-7uqr8V",
    "outputId": "83523c14-10c4-46e2-f999-32d36d4a58b2"
   },
   "outputs": [],
   "source": [
    "adata = adata[adata.obs.n_genes_by_counts < 2500, :]\n",
    "adata = adata[adata.obs.pct_counts_mt < 5, :]\n",
    "adata"
   ]
  },
  {
   "cell_type": "markdown",
   "metadata": {
    "id": "SNqR_OJuqvs4"
   },
   "source": [
    "2638細胞 x 13714遺伝子のAnnDataになりました。"
   ]
  },
  {
   "cell_type": "markdown",
   "metadata": {
    "id": "7Wj_Ame1qyuQ"
   },
   "source": [
    "## 🧪 3. 正規化とスケーリング\n",
    "各細胞の総カウントをそろえて10000に正規化"
   ]
  },
  {
   "cell_type": "code",
   "execution_count": null,
   "metadata": {
    "colab": {
     "base_uri": "https://localhost:8080/"
    },
    "id": "3oZWErgop42s",
    "outputId": "e9e7b08e-e95c-482b-980b-a032db4cf369"
   },
   "outputs": [],
   "source": [
    "sc.pp.normalize_total(adata, target_sum=1e4)"
   ]
  },
  {
   "cell_type": "markdown",
   "metadata": {
    "id": "12WDrhFxQ_QV"
   },
   "source": [
    "対数変換（log1p = log(x+1)）"
   ]
  },
  {
   "cell_type": "code",
   "execution_count": null,
   "metadata": {
    "id": "7Ve03_QYQ-9e"
   },
   "outputs": [],
   "source": [
    "sc.pp.log1p(adata)"
   ]
  },
  {
   "cell_type": "markdown",
   "metadata": {
    "id": "hn4viGO7rSzN"
   },
   "source": [
    "変動の大きい遺伝子（高変動遺伝子）の選択"
   ]
  },
  {
   "cell_type": "code",
   "execution_count": null,
   "metadata": {
    "id": "_8exptN2q2po"
   },
   "outputs": [],
   "source": [
    "sc.pp.highly_variable_genes(adata, min_mean=0.0125, max_mean=3, min_disp=0.5)\n",
    "adata = adata[:, adata.var.highly_variable]"
   ]
  },
  {
   "cell_type": "markdown",
   "metadata": {
    "id": "lwEMo422RWiP"
   },
   "source": [
    "スケーリング（平均0・分散1に標準化）"
   ]
  },
  {
   "cell_type": "code",
   "execution_count": null,
   "metadata": {
    "colab": {
     "base_uri": "https://localhost:8080/"
    },
    "id": "extcyZqD5Xed",
    "outputId": "b746a31d-264b-4c15-ee27-1a3faea3869b"
   },
   "outputs": [],
   "source": [
    "sc.pp.scale(adata, max_value=10)"
   ]
  },
  {
   "cell_type": "markdown",
   "metadata": {
    "id": "BUYL9foKKxE_"
   },
   "source": [
    "## 🌐 4. 次元削減とクラスタリング\n",
    "主成分分析（PCA）"
   ]
  },
  {
   "cell_type": "code",
   "execution_count": null,
   "metadata": {
    "id": "5rYoo5cn5bLp"
   },
   "outputs": [],
   "source": [
    "sc.tl.pca(adata)"
   ]
  },
  {
   "cell_type": "markdown",
   "metadata": {
    "id": "ruUAx0AW5o-X"
   },
   "source": [
    "近傍グラフの計算を行います。これは細胞間の距離（類似性や関連性）を数値化し、細胞間の関係をグラフ構造で表現することを目的としています。"
   ]
  },
  {
   "cell_type": "code",
   "execution_count": null,
   "metadata": {
    "id": "deiIwTEG5qpn"
   },
   "outputs": [],
   "source": [
    "sc.pp.neighbors(adata, n_neighbors=10, n_pcs=40)"
   ]
  },
  {
   "cell_type": "markdown",
   "metadata": {
    "id": "V38nhXmq5a2A"
   },
   "source": [
    "UMAPによる2次元可視化"
   ]
  },
  {
   "cell_type": "code",
   "execution_count": null,
   "metadata": {
    "id": "d4YZkVPt50LZ"
   },
   "outputs": [],
   "source": [
    "sc.tl.umap(adata)"
   ]
  },
  {
   "cell_type": "markdown",
   "metadata": {
    "id": "k3kkWtcZ7E_j"
   },
   "source": [
    "近傍グラフのクラスタリングを行います。"
   ]
  },
  {
   "cell_type": "code",
   "execution_count": null,
   "metadata": {
    "colab": {
     "base_uri": "https://localhost:8080/"
    },
    "id": "DSqrnKRB7Gr8",
    "outputId": "5f529fb5-30bc-4615-f623-882268d86388"
   },
   "outputs": [],
   "source": [
    "sc.tl.leiden(adata, resolution=0.5)  # louvainでも可"
   ]
  },
  {
   "cell_type": "markdown",
   "metadata": {
    "id": "gdpY44ZxR9YS"
   },
   "source": [
    "クラスタごとに色を付けてUMAPを表示"
   ]
  },
  {
   "cell_type": "code",
   "execution_count": null,
   "metadata": {
    "colab": {
     "base_uri": "https://localhost:8080/",
     "height": 448
    },
    "id": "_eO3PN0AR62K",
    "outputId": "a7589193-11e1-4fa0-ad68-5a2365d2c4e3"
   },
   "outputs": [],
   "source": [
    "sc.pl.umap(adata, color='leiden', title='Leiden Clustering')"
   ]
  },
  {
   "cell_type": "markdown",
   "metadata": {
    "id": "Klv70YZjLH-N"
   },
   "source": [
    "## 🧬 5. クラスタごとのマーカー遺伝子抽出"
   ]
  },
  {
   "cell_type": "code",
   "execution_count": null,
   "metadata": {
    "colab": {
     "base_uri": "https://localhost:8080/"
    },
    "id": "DJy-GNHFLpwI",
    "outputId": "3dd77362-7310-48e1-a3e0-ac726b1df6b3"
   },
   "outputs": [],
   "source": [
    "sc.tl.rank_genes_groups(adata, groupby='leiden', method='wilcoxon')"
   ]
  },
  {
   "cell_type": "markdown",
   "metadata": {
    "id": "RCcPaCzgSk1W"
   },
   "source": [
    "各クラスタのマーカー遺伝子（上位20）を可視化"
   ]
  },
  {
   "cell_type": "code",
   "execution_count": null,
   "metadata": {
    "colab": {
     "base_uri": "https://localhost:8080/",
     "height": 297
    },
    "id": "egWOoSWfSmZM",
    "outputId": "b800a484-a706-44ef-c18f-5366c0bd672b"
   },
   "outputs": [],
   "source": [
    "sc.pl.rank_genes_groups(adata, n_genes=20, sharey=False)"
   ]
  },
  {
   "cell_type": "markdown",
   "metadata": {
    "id": "DrtLwvpGLtdT"
   },
   "source": [
    "## 📥 6. PanglaoDBのマーカー遺伝子を読み込み"
   ]
  },
  {
   "cell_type": "code",
   "execution_count": null,
   "metadata": {
    "id": "zGkHZ0h3LwKX"
   },
   "outputs": [],
   "source": [
    "import pandas as pd\n",
    "panglao = pd.read_csv(\"https://github.com/iwata97/bioinfo/raw/refs/heads/main/PanglaoDB_markers_27_Mar_2020.tsv\", sep=\"\\t\")"
   ]
  },
  {
   "cell_type": "markdown",
   "metadata": {
    "id": "ioVuwXDrSvfo"
   },
   "source": [
    "ヒトのマーカーのみ抽出"
   ]
  },
  {
   "cell_type": "code",
   "execution_count": null,
   "metadata": {
    "colab": {
     "base_uri": "https://localhost:8080/",
     "height": 434
    },
    "id": "wgPmiF4ESvwT",
    "outputId": "196c719a-de0a-4973-b380-7587709899ca"
   },
   "outputs": [],
   "source": [
    "panglao = panglao[panglao[\"species\"] == \"Hs\"]\n",
    "panglao.head()"
   ]
  },
  {
   "cell_type": "markdown",
   "metadata": {
    "id": "kM1QUbvkL3V2"
   },
   "source": [
    "## 🔍 7. クラスタごとに細胞型を推定（PanglaoDBと照合）"
   ]
  },
  {
   "cell_type": "code",
   "execution_count": null,
   "metadata": {
    "id": "XghdqFAjL5a8"
   },
   "outputs": [],
   "source": [
    "cluster_to_celltype = {}\n",
    "\n",
    "for cluster in adata.obs['leiden'].cat.categories:\n",
    "    # 各クラスタの上位20マーカー遺伝子を取得\n",
    "    genes = adata.uns['rank_genes_groups']['names'][cluster][:20]\n",
    "    # PanglaoDBで一致する細胞型を検索\n",
    "    matched = panglao[panglao['official gene symbol'].isin(genes)]\n",
    "    if not matched.empty:\n",
    "        predicted_type = matched['cell type'].value_counts().idxmax()\n",
    "    else:\n",
    "        predicted_type = 'Unknown'\n",
    "    cluster_to_celltype[cluster] = predicted_type"
   ]
  },
  {
   "cell_type": "markdown",
   "metadata": {
    "id": "qNHi9aIIS7Zc"
   },
   "source": [
    "結果表示"
   ]
  },
  {
   "cell_type": "code",
   "execution_count": null,
   "metadata": {
    "colab": {
     "base_uri": "https://localhost:8080/"
    },
    "id": "azYRX7eiS8-0",
    "outputId": "af60c131-524e-4c47-d362-3881c2fb6a59"
   },
   "outputs": [],
   "source": [
    "cluster_to_celltype"
   ]
  },
  {
   "cell_type": "markdown",
   "metadata": {
    "id": "zD6fKQ41L8DJ"
   },
   "source": [
    "## 🏷 8. 細胞型ラベルを各細胞に割り当てる"
   ]
  },
  {
   "cell_type": "code",
   "execution_count": null,
   "metadata": {
    "id": "N1frNO8VL_ZQ"
   },
   "outputs": [],
   "source": [
    "adata.obs['celltype'] = adata.obs['leiden'].map(cluster_to_celltype)"
   ]
  },
  {
   "cell_type": "markdown",
   "metadata": {
    "id": "-HfVvu2dMAZC"
   },
   "source": [
    "## 🎨 9. 細胞型ラベルでUMAPを描画"
   ]
  },
  {
   "cell_type": "code",
   "execution_count": null,
   "metadata": {
    "colab": {
     "base_uri": "https://localhost:8080/",
     "height": 448
    },
    "id": "RImSPAiXMEzm",
    "outputId": "b61a7b44-c84a-44b8-df57-464302a023ce"
   },
   "outputs": [],
   "source": [
    "sc.pl.umap(adata, color='celltype', legend_loc='on data', title='Predicted Cell Types from PanglaoDB')"
   ]
  },
  {
   "cell_type": "markdown",
   "metadata": {
    "id": "BozS2GZ5xiIl"
   },
   "source": [
    "参考ページ\n",
    "https://singlecellanalysistutorial.readthedocs.io/en/latest/notebooks/Scanpy_PBMC.html?utm_source=chatgpt.com\n",
    "https://qiita.com/nikera/items/45cc4d6491182d1e0aab"
   ]
  }
 ],
 "metadata": {
  "colab": {
   "provenance": []
  },
  "kernelspec": {
   "display_name": "Python 3",
   "language": "python",
   "name": "python3"
  },
  "language_info": {
   "codemirror_mode": {
    "name": "ipython",
    "version": 3
   },
   "file_extension": ".py",
   "mimetype": "text/x-python",
   "name": "python",
   "nbconvert_exporter": "python",
   "pygments_lexer": "ipython3",
   "version": "3.8.13"
  }
 },
 "nbformat": 4,
 "nbformat_minor": 4
}
