{
 "cells": [
  {
   "cell_type": "markdown",
   "metadata": {
    "id": "vPDmxPV69xPM"
   },
   "source": [
    "# 🛠 機械学習の基礎\n",
    "\n",
    "機械学習の基礎を実践する。<br>"
   ]
  },
  {
   "cell_type": "markdown",
   "metadata": {
    "id": "BL59TLTn9964"
   },
   "source": [
    "## 📚 手順概要\n",
    "scikit-learn付属の乳がんのデータセットを使って、機械学習の教師あり（分類）を行う。\n",
    "分析は、以下の手順で進めます。\n",
    "\n",
    "1.   データセットの確認\n",
    "2.   複数の機械学習法を用いた精度比較\n",
    "3.   深層学習\n",
    "4.   まとめ"
   ]
  },
  {
   "cell_type": "markdown",
   "metadata": {
    "id": "YuuEKWLy-c-T"
   },
   "source": [
    "### 1. データセットの確認"
   ]
  },
  {
   "cell_type": "markdown",
   "metadata": {
    "id": "XzZu6cAxOxER"
   },
   "source": [
    "関連ライブラリの読み込み"
   ]
  },
  {
   "cell_type": "code",
   "execution_count": null,
   "metadata": {
    "id": "waB6tvqV9RQR"
   },
   "outputs": [],
   "source": [
    "# データ操作や解析に使う Python ライブラリ「pandas」を pd という名前で使えるようにするための宣言\n",
    "import pandas as pd\n",
    "\n",
    "# 数値計算ライブラリ NumPy を np という名前で使えるようにする\n",
    "import numpy as np"
   ]
  },
  {
   "cell_type": "markdown",
   "metadata": {
    "id": "nDIaTaISPDsY"
   },
   "source": [
    "scikit-learnが公開しているデータは、sklearn.datasetsのメソッドを使って読み込むことができる。今回は、以下のurlにあるファイルを読み込む。<br>\n",
    "今回使用する乳がんのデータセットは、ウィスコンシン大学の乳がん診断データセット(Wisconsin Diagnostic Breast Cancer, WDBC)と呼ばれている。<br>\n",
    "このデータセットは、乳がんの診断に関連する特徴量を持つ患者のデータを含んでいます。乳がんデータセットを読み込む。<br>"
   ]
  },
  {
   "cell_type": "code",
   "execution_count": null,
   "metadata": {
    "id": "3KxvE8kz-cuM"
   },
   "outputs": [],
   "source": [
    "# データの読み込み\n",
    "df_breast_cancer = pd.read_excel('https://github.com/iwata97/bioinfo/raw/refs/heads/main/breast_cancer_data.xlsx')"
   ]
  },
  {
   "cell_type": "markdown",
   "metadata": {},
   "source": [
    "データの中身を確認してみる。"
   ]
  },
  {
   "cell_type": "code",
   "execution_count": null,
   "metadata": {},
   "outputs": [],
   "source": [
    "df_breast_cancer.head()"
   ]
  },
  {
   "cell_type": "markdown",
   "metadata": {},
   "source": [
    "今は、説明変数も目的変数も一緒になっている。<br>\n",
    "目的変数をdf_targetに、説明変数をdf_dataに入れる。"
   ]
  },
  {
   "cell_type": "code",
   "execution_count": null,
   "metadata": {},
   "outputs": [],
   "source": [
    "df_target = pd.DataFrame(df_breast_cancer[\"target\"], columns=[\"target\"])\n",
    "df_data = df_breast_cancer.drop(columns=[\"target\"])"
   ]
  },
  {
   "cell_type": "markdown",
   "metadata": {
    "id": "ds6XeUI2-vJs"
   },
   "source": [
    "特徴量のデータ型の確認"
   ]
  },
  {
   "cell_type": "code",
   "execution_count": null,
   "metadata": {
    "colab": {
     "base_uri": "https://localhost:8080/"
    },
    "id": "WNyI-NpS-49T",
    "outputId": "fff868a8-e0c6-4b76-bbba-8603a9da1e20"
   },
   "outputs": [],
   "source": [
    "# 各columnのデータ型を表示\n",
    "print(f'{df_data.dtypes} \\n')"
   ]
  },
  {
   "cell_type": "markdown",
   "metadata": {
    "id": "Rrwd8yHoKCus"
   },
   "source": [
    "データの中身を確認してみます。"
   ]
  },
  {
   "cell_type": "code",
   "execution_count": null,
   "metadata": {
    "colab": {
     "base_uri": "https://localhost:8080/",
     "height": 478
    },
    "id": "sJtXdjSXJ7jA",
    "outputId": "54230e1f-719e-4edf-bfda-32434a06874f"
   },
   "outputs": [],
   "source": [
    "df_data"
   ]
  },
  {
   "cell_type": "markdown",
   "metadata": {
    "id": "TLSDdHbs-7Hl"
   },
   "source": [
    "本データに含まれる特徴量は、いずれも連続値であることがわかります。\n",
    "次に、統計量を確認します。"
   ]
  },
  {
   "cell_type": "code",
   "execution_count": null,
   "metadata": {
    "colab": {
     "base_uri": "https://localhost:8080/",
     "height": 384
    },
    "id": "lsYkm74_-9b4",
    "outputId": "ec927439-1351-425c-fe35-4e1f9fe60c7a"
   },
   "outputs": [],
   "source": [
    "# データにおける、数値データの統計量を表示\n",
    "display(df_data.describe())"
   ]
  },
  {
   "cell_type": "markdown",
   "metadata": {
    "id": "mOd3niYJ_Bfu"
   },
   "source": [
    "続いて、各特徴量の分布及び相関を確認します。"
   ]
  },
  {
   "cell_type": "markdown",
   "metadata": {
    "id": "GNeVYvkEPnPq"
   },
   "source": [
    "関連ライブラリの読み込み"
   ]
  },
  {
   "cell_type": "code",
   "execution_count": null,
   "metadata": {
    "id": "VhlwOddCPQRu"
   },
   "outputs": [],
   "source": [
    "import matplotlib.pyplot as plt\n",
    "import seaborn as sns"
   ]
  },
  {
   "cell_type": "code",
   "execution_count": null,
   "metadata": {
    "colab": {
     "base_uri": "https://localhost:8080/",
     "height": 1000
    },
    "id": "jjoCcbx3_BTx",
    "outputId": "9c4f0e10-8f51-4e73-88df-1d6eb354af27"
   },
   "outputs": [],
   "source": [
    "# 特徴量の名前の取得\n",
    "feature_names = df_data.columns\n",
    "\n",
    "# 特徴量の分布を可視化\n",
    "plt.figure(figsize=(12, 24))\n",
    "for i, feature in enumerate(feature_names):\n",
    "    plt.subplot(10, 3, i + 1)\n",
    "    sns.histplot(df_data[feature], kde=True)\n",
    "    plt.title(feature)\n",
    "plt.tight_layout()\n",
    "plt.show()"
   ]
  },
  {
   "cell_type": "code",
   "execution_count": null,
   "metadata": {
    "colab": {
     "base_uri": "https://localhost:8080/",
     "height": 734
    },
    "id": "t0_u6AqN_KTg",
    "outputId": "c90d1350-1617-4ca1-a0e0-af37383781b9"
   },
   "outputs": [],
   "source": [
    "# 特徴量間の相関を可視化\n",
    "plt.figure(figsize=(10, 8))\n",
    "sns.heatmap(df_data.corr(), cmap='coolwarm')\n",
    "plt.title('Feature Correlation')\n",
    "plt.show()"
   ]
  },
  {
   "cell_type": "markdown",
   "metadata": {
    "id": "OvAudUUB_M2_"
   },
   "source": [
    "## 3. 複数の機械学習法を用いた精度比較\n",
    "ロジスティック回帰、サポートベクターマシン（SVM）、ランダムフォレスト、Light GBMのモデルの精度を比較します。"
   ]
  },
  {
   "cell_type": "markdown",
   "metadata": {
    "id": "SUclbBce_MmP"
   },
   "source": [
    "*   決定木：樹形図を作成し、予測や検証をする分析\n",
    "*   ランダムフォレスト：複数の決定木の多数決で分類を実施\n",
    "*   サポートベクターマシン：2クラスの標本値と境界線の距離を基準に最適化"
   ]
  },
  {
   "cell_type": "markdown",
   "metadata": {
    "id": "Ng2Bvh7GPxOd"
   },
   "source": [
    "まず、データセットの説明変数と目的変数を分離する"
   ]
  },
  {
   "cell_type": "code",
   "execution_count": null,
   "metadata": {
    "id": "wVkplVarP3RO"
   },
   "outputs": [],
   "source": [
    "# 説明変数と目的変数をそれぞれ読み込み\n",
    "X = df_breast_cancer.drop('target', axis=1).values\n",
    "y = df_breast_cancer['target'].values.ravel()"
   ]
  },
  {
   "cell_type": "markdown",
   "metadata": {
    "id": "GgvV4sdfQwxT"
   },
   "source": [
    "中身の確認と形状（データ数・特徴量数）の確認"
   ]
  },
  {
   "cell_type": "code",
   "execution_count": null,
   "metadata": {
    "colab": {
     "base_uri": "https://localhost:8080/"
    },
    "id": "r3LkLh2jQyYx",
    "outputId": "4d9a3a6f-9118-4fce-ca0c-8842deed7d87"
   },
   "outputs": [],
   "source": [
    "print(X)\n",
    "X.shape"
   ]
  },
  {
   "cell_type": "code",
   "execution_count": null,
   "metadata": {
    "colab": {
     "base_uri": "https://localhost:8080/"
    },
    "id": "sSOSvuO3SshL",
    "outputId": "a002a307-076f-49ba-da35-79ae45de16e2"
   },
   "outputs": [],
   "source": [
    "print(y)\n",
    "y.shape"
   ]
  },
  {
   "cell_type": "markdown",
   "metadata": {
    "id": "inYuLNFDSxko"
   },
   "source": [
    "データを学習データセットとテストデータセットに分割する"
   ]
  },
  {
   "cell_type": "code",
   "execution_count": null,
   "metadata": {
    "id": "_EGqCtDbS_uC"
   },
   "outputs": [],
   "source": [
    "from sklearn.model_selection import train_test_split, cross_val_score"
   ]
  },
  {
   "cell_type": "code",
   "execution_count": null,
   "metadata": {
    "id": "5sLoXdj8S6B-"
   },
   "outputs": [],
   "source": [
    "# データを訓練用とテスト用に分割\n",
    "X_train, X_test, y_train, y_test = train_test_split(X, y, test_size=0.3, random_state=1)"
   ]
  },
  {
   "cell_type": "markdown",
   "metadata": {
    "id": "XsWiAAAsTHCZ"
   },
   "source": [
    "形状（データ数・特徴量数）を確認"
   ]
  },
  {
   "cell_type": "code",
   "execution_count": null,
   "metadata": {
    "colab": {
     "base_uri": "https://localhost:8080/"
    },
    "id": "m18p_OvQTIRo",
    "outputId": "4d664c65-b958-4b11-cfae-66e63a8323c7"
   },
   "outputs": [],
   "source": [
    "print(X_train.shape, X_test.shape, y_train.shape, y_test.shape)"
   ]
  },
  {
   "cell_type": "markdown",
   "metadata": {
    "id": "huUWQR8MT0iK"
   },
   "source": [
    "正規化"
   ]
  },
  {
   "cell_type": "code",
   "execution_count": null,
   "metadata": {
    "id": "cLRJd9_rT4iH"
   },
   "outputs": [],
   "source": [
    "from sklearn.preprocessing import StandardScaler"
   ]
  },
  {
   "cell_type": "code",
   "execution_count": null,
   "metadata": {
    "id": "b3xKjujET1av"
   },
   "outputs": [],
   "source": [
    "# 特徴量の正規化\n",
    "scaler = StandardScaler()\n",
    "X_train = scaler.fit_transform(X_train)\n",
    "X_test = scaler.transform(X_test)"
   ]
  },
  {
   "cell_type": "markdown",
   "metadata": {
    "id": "UKKYNxpzUXB9"
   },
   "source": [
    "決定木、ランダムフォレスト、サポートベクターマシン（SVM）のモデルの精度を比較します。"
   ]
  },
  {
   "cell_type": "code",
   "execution_count": null,
   "metadata": {
    "id": "VNtAd50YUaSd"
   },
   "outputs": [],
   "source": [
    "# モデル評価結果保存用リスト\n",
    "results = []"
   ]
  },
  {
   "cell_type": "markdown",
   "metadata": {
    "id": "ojYL3PURUEr1"
   },
   "source": [
    "決定木モデルの構築"
   ]
  },
  {
   "cell_type": "code",
   "execution_count": null,
   "metadata": {
    "id": "mclluksmPWWl"
   },
   "outputs": [],
   "source": [
    "from sklearn.linear_model import LogisticRegression\n",
    "from sklearn.tree import DecisionTreeClassifier\n",
    "from sklearn.metrics import accuracy_score\n",
    "\n",
    "#学習\n",
    "tree = DecisionTreeClassifier(max_depth=3, random_state=1)\n",
    "tree.fit(X_train, y_train)\n",
    "\n",
    "# テストデータで予測\n",
    "y_pred = tree.predict(X_test)\n",
    "\n",
    "# 精度を評価\n",
    "tree_acc = accuracy_score(y_test, y_pred)\n",
    "\n",
    "# 精度の保存\n",
    "results.append({\n",
    "    \"Model\": \"Decision Tree\",\n",
    "    \"Accuracy\": tree_acc,\n",
    "})"
   ]
  },
  {
   "cell_type": "markdown",
   "metadata": {
    "id": "11vEMLblUgKD"
   },
   "source": [
    "結果を見てみる"
   ]
  },
  {
   "cell_type": "code",
   "execution_count": null,
   "metadata": {
    "colab": {
     "base_uri": "https://localhost:8080/"
    },
    "id": "GKj9tnGWUf4k",
    "outputId": "2c86851a-2971-483b-84a7-294d2f2eaf21"
   },
   "outputs": [],
   "source": [
    "print(results)"
   ]
  },
  {
   "cell_type": "markdown",
   "metadata": {},
   "source": [
    "生成した決定木を視覚化してみる"
   ]
  },
  {
   "cell_type": "code",
   "execution_count": null,
   "metadata": {},
   "outputs": [],
   "source": [
    "#pydotplus・graghvizで可視化\n",
    "from pydotplus import graph_from_dot_data\n",
    "from sklearn.tree import export_graphviz\n",
    "from IPython.display import Image\n",
    "\n",
    "dot_data = export_graphviz(tree, filled=True, rounded = True, class_names=feature_names, feature_names=feature_names, out_file=None)\n",
    "\n",
    "#グラフを出力\n",
    "graph = graph_from_dot_data(dot_data)\n",
    "Image(graph.create_png())"
   ]
  },
  {
   "cell_type": "markdown",
   "metadata": {
    "id": "xUOWwEg_Ux_3"
   },
   "source": [
    "ランダムフォレストのモデル構築"
   ]
  },
  {
   "cell_type": "code",
   "execution_count": null,
   "metadata": {
    "id": "VayYq5cZUBlO"
   },
   "outputs": [],
   "source": [
    "from sklearn.ensemble import RandomForestClassifier\n",
    "\n",
    "#学習\n",
    "rand_forest = RandomForestClassifier(random_state=1)\n",
    "rand_forest.fit(X_train, y_train)\n",
    "\n",
    "# テストデータで予測\n",
    "y_pred = rand_forest.predict(X_test)\n",
    "\n",
    "# 精度を評価\n",
    "rand_forest_acc = accuracy_score(y_test, y_pred)\n",
    "\n",
    "# 精度の保存\n",
    "results.append({\n",
    "    \"Model\": \"Random Forest\",\n",
    "    \"Accuracy\": rand_forest_acc\n",
    "})"
   ]
  },
  {
   "cell_type": "markdown",
   "metadata": {
    "id": "ar81MItXUsyQ"
   },
   "source": [
    "結果を見てみる"
   ]
  },
  {
   "cell_type": "code",
   "execution_count": null,
   "metadata": {
    "colab": {
     "base_uri": "https://localhost:8080/"
    },
    "id": "ORNAEDSTUvsF",
    "outputId": "99d28534-0f84-48ac-fffa-e83a896c64c9"
   },
   "outputs": [],
   "source": [
    "print(results)"
   ]
  },
  {
   "cell_type": "markdown",
   "metadata": {
    "id": "9bgEDVkYUlW4"
   },
   "source": [
    "サポートベクターマシン（SVM）のモデル構築"
   ]
  },
  {
   "cell_type": "code",
   "execution_count": null,
   "metadata": {
    "id": "RkCliSjiUnxa"
   },
   "outputs": [],
   "source": [
    "from sklearn.svm import SVC\n",
    "\n",
    "# 学習\n",
    "svc = SVC(kernel='linear', C=1, random_state=1)\n",
    "svc.fit(X_train, y_train)\n",
    "\n",
    "# テストデータで予測\n",
    "y_pred = svc.predict(X_test)\n",
    "\n",
    "# 精度を評価\n",
    "svc_acc = accuracy_score(y_test, y_pred)\n",
    "\n",
    "# 精度の保存\n",
    "results.append({\n",
    "    \"Model\": \"Support Vector Machine\",\n",
    "    \"Accuracy\": svc_acc\n",
    "})"
   ]
  },
  {
   "cell_type": "markdown",
   "metadata": {
    "id": "tOOxYyenVKi4"
   },
   "source": [
    "結果を見てみる"
   ]
  },
  {
   "cell_type": "code",
   "execution_count": null,
   "metadata": {
    "colab": {
     "base_uri": "https://localhost:8080/"
    },
    "id": "wFurxaI8VM4f",
    "outputId": "9b10930d-9529-4f21-94c4-0ee8f6085d54"
   },
   "outputs": [],
   "source": [
    "print(results)"
   ]
  },
  {
   "cell_type": "code",
   "execution_count": null,
   "metadata": {
    "colab": {
     "base_uri": "https://localhost:8080/",
     "height": 174
    },
    "id": "1pr8aG3F-eNZ",
    "outputId": "2c64121b-646e-4ed9-e5e8-aca796ffc7f4"
   },
   "outputs": [],
   "source": [
    "# results を DataFrame に変換\n",
    "df_results = pd.DataFrame(results)\n",
    "\n",
    "# 表示\n",
    "df_results"
   ]
  },
  {
   "cell_type": "markdown",
   "metadata": {
    "id": "u1Bk4uSXa1GX"
   },
   "source": [
    "グラフを作成"
   ]
  },
  {
   "cell_type": "code",
   "execution_count": null,
   "metadata": {
    "colab": {
     "base_uri": "https://localhost:8080/",
     "height": 507
    },
    "id": "Am8W3duKbGaE",
    "outputId": "c3d934f8-d497-423f-e09f-3c71aa4c282d"
   },
   "outputs": [],
   "source": [
    "import matplotlib.pyplot as plt\n",
    "\n",
    "# モデル名、精度、標準誤差をリストに変換\n",
    "models = [d[\"Model\"] for d in results]\n",
    "accuracies = [d[\"Accuracy\"] for d in results]\n",
    "\n",
    "# グラフの描画\n",
    "plt.figure(figsize=(8, 5))\n",
    "bars = plt.bar(models, accuracies, capsize=5, color='cornflowerblue', edgecolor='black')\n",
    "\n",
    "# ラベルとスタイル\n",
    "plt.ylabel(\"Accuracy\")\n",
    "plt.title(\"Model Comparison with 5-Fold Cross-Validation\")\n",
    "plt.ylim(0.8, 1)\n",
    "plt.grid(axis='y', linestyle='--', alpha=0.7)\n",
    "\n",
    "# 値を棒の上に表示（任意）\n",
    "for bar, acc in zip(bars, accuracies):\n",
    "    plt.text(bar.get_x() + bar.get_width()/2, bar.get_height() + 0.01, f\"{acc:.3f}\", ha='center', va='bottom')\n",
    "\n",
    "plt.tight_layout()\n",
    "plt.show()\n"
   ]
  },
  {
   "cell_type": "markdown",
   "metadata": {
    "id": "pJCMTnzU7ZxR"
   },
   "source": [
    "# 4. 深層学習によるモデル構築と予測精度評価"
   ]
  },
  {
   "cell_type": "code",
   "execution_count": null,
   "metadata": {
    "id": "24dBJCLS73xF"
   },
   "outputs": [],
   "source": [
    "import numpy as np\n",
    "import pandas as pd\n",
    "\n",
    "from keras import models\n",
    "from keras import layers\n",
    "from keras.callbacks import EarlyStopping\n",
    "from sklearn.model_selection import train_test_split\n",
    "\n",
    "from sklearn.datasets import load_breast_cancer"
   ]
  },
  {
   "cell_type": "markdown",
   "metadata": {
    "id": "oIyotNvQ8FmJ"
   },
   "source": [
    "モデルの構築"
   ]
  },
  {
   "cell_type": "code",
   "execution_count": null,
   "metadata": {
    "colab": {
     "base_uri": "https://localhost:8080/"
    },
    "id": "aBHafBn-8DK0",
    "outputId": "549f153d-bbda-4048-ce25-16664b3def90"
   },
   "outputs": [],
   "source": [
    "model=models.Sequential()\n",
    "model.add(layers.Dense(200,activation=\"relu\",input_dim=30))\n",
    "model.add(layers.Dense(100,activation=\"relu\"))\n",
    "model.add(layers.Dense(1,activation=\"sigmoid\"))"
   ]
  },
  {
   "cell_type": "markdown",
   "metadata": {
    "id": "G0rBhrxB8L78"
   },
   "source": [
    "モデルとしては、これでおしまい。\n",
    "に、ここではしてますが、行を足せばもっと多層にできます。\n",
    "models.Sequential() こいつが、\n",
    "データの線形結合➡活性化関数➡次のニューロンへ\n",
    "をやってくれるアルゴリズムです。\n",
    "で、順番に各層で何やるかを決めてるんですが、\n",
    "model.add(layers.Dense(200,activation=”relu”,input_dim=30))\n",
    "最初のこれが入力層、\n",
    "・200個のニューロン\n",
    "・活性化関数はRELU\n",
    "・入力データの次元は30\n",
    "だよって決めてます。\n",
    "model.add(layers.Dense(100,activation=”relu”))\n",
    "ほんでこれが、中間層で、\n",
    "・100個のニューロン\n",
    "・活性化関数はRELU\n",
    "として、出力層として\n",
    "model.add(layers.Dense(1,activation=”sigmoid”))\n",
    "1個の出力を、シグモイド関数でだしてね、2値だから。\n",
    "としているわけです。"
   ]
  },
  {
   "cell_type": "markdown",
   "metadata": {
    "id": "vcqpqQTQ8Ty9"
   },
   "source": [
    "モデルの概要を見てみる"
   ]
  },
  {
   "cell_type": "code",
   "execution_count": null,
   "metadata": {
    "colab": {
     "base_uri": "https://localhost:8080/",
     "height": 232
    },
    "id": "qMYfwxU88LxU",
    "outputId": "460ed37a-0b1b-4629-d090-d349accb85d8"
   },
   "outputs": [],
   "source": [
    "model.summary()"
   ]
  },
  {
   "cell_type": "markdown",
   "metadata": {
    "id": "1K6x21WX8YLI"
   },
   "source": [
    "こんなですよと。\n",
    "計26,401個のパラメータがあるよと、\n",
    "各層でデータを線形結合する際の、各係数の数とその総和を教えてくれます。\n",
    "モデルとしては、こうなんですが、\n",
    "どうやって最適化していくの？とか、損失関数なんですか？とか、評価指標は何？\n",
    "とうことを別途決めてあげないといけません。"
   ]
  },
  {
   "cell_type": "code",
   "execution_count": null,
   "metadata": {
    "id": "qmlgiFtF8Y8p"
   },
   "outputs": [],
   "source": [
    "model.compile(optimizer=\"adam\",\n",
    "              loss=\"binary_crossentropy\",\n",
    "              metrics=[\"accuracy\"])"
   ]
  },
  {
   "cell_type": "markdown",
   "metadata": {
    "id": "sLodH0a68cX1"
   },
   "source": [
    "最適化アルゴリズムはadam,\n",
    "2値分類問題なので、損失関数は、バイナリーの交差エントロピー、\n",
    "同じく2値分類問題なので、評価指標は正解率、\n",
    "としています。\n",
    "最適化アルゴリズムについては、ここがわかりやすかったです。"
   ]
  },
  {
   "cell_type": "code",
   "execution_count": null,
   "metadata": {
    "id": "uo0dAy3n8ehe"
   },
   "outputs": [],
   "source": [
    "callbacks=[EarlyStopping(monitor=\"val_accuracy\",patience=3)]"
   ]
  },
  {
   "cell_type": "markdown",
   "metadata": {
    "id": "JplGKnve8hu0"
   },
   "source": [
    "ほんでもって、検証データの正解率が、3回向上しなかったら学習終わって、を定義しといて、"
   ]
  },
  {
   "cell_type": "code",
   "execution_count": null,
   "metadata": {
    "colab": {
     "base_uri": "https://localhost:8080/"
    },
    "id": "cRZlnGqs8jjW",
    "outputId": "48083f89-8239-4085-848f-daa9315ce65c"
   },
   "outputs": [],
   "source": [
    "model.fit(X_train,\n",
    "                  y_train,\n",
    "                  epochs=50,\n",
    "                  batch_size=100,\n",
    "                  verbose=1,\n",
    "                  callbacks=callbacks)"
   ]
  },
  {
   "cell_type": "markdown",
   "metadata": {
    "id": "tYJaK3px9GUS"
   },
   "source": [
    "こないして、学習です。\n",
    "batch_size=100\n",
    "これで、1回の学習で使うデータの数を、\n",
    "epochs=50\n",
    "これで学習の回数、を決めています。"
   ]
  },
  {
   "cell_type": "markdown",
   "metadata": {
    "id": "tBfBTlmH9JqA"
   },
   "source": [
    "ここで止まりました。\n",
    "構築したモデルをテストデータに適用します"
   ]
  },
  {
   "cell_type": "code",
   "execution_count": null,
   "metadata": {
    "colab": {
     "base_uri": "https://localhost:8080/"
    },
    "id": "POq9tt229Ja4",
    "outputId": "9587eb51-317f-4598-bbee-893a3f5ee0f1"
   },
   "outputs": [],
   "source": [
    "accuracy = model.evaluate(X_test,y_test)\n",
    "\n",
    "# 精度の保存\n",
    "results.append({\n",
    "    \"Model\": \"Deep Neural Network\",\n",
    "    \"Accuracy\": accuracy[1],\n",
    "    \"StdErr\": 0\n",
    "})"
   ]
  },
  {
   "cell_type": "code",
   "execution_count": null,
   "metadata": {
    "colab": {
     "base_uri": "https://localhost:8080/",
     "height": 206
    },
    "id": "BktFmLh6gCGF",
    "outputId": "d7e96559-14ba-4374-c157-455713fa5e09"
   },
   "outputs": [],
   "source": [
    "# results を DataFrame に変換\n",
    "df_results = pd.DataFrame(results)\n",
    "\n",
    "# 表示\n",
    "df_results"
   ]
  },
  {
   "cell_type": "markdown",
   "metadata": {
    "id": "_dssydNPhTXm"
   },
   "source": [
    "グラフにしてみる"
   ]
  },
  {
   "cell_type": "code",
   "execution_count": null,
   "metadata": {
    "colab": {
     "base_uri": "https://localhost:8080/",
     "height": 507
    },
    "id": "j3KPoANlgrrs",
    "outputId": "9f9bb51f-971e-4040-f6d7-5a7656ebd3be"
   },
   "outputs": [],
   "source": [
    "# モデル名、精度、標準誤差をリストに変換\n",
    "models = [d[\"Model\"] for d in results]\n",
    "accuracies = [d[\"Accuracy\"] for d in results]\n",
    "std_errors = [d.get(\"StdErr\", 0) for d in results]  # StdErrがない場合は0\n",
    "\n",
    "# グラフの描画\n",
    "plt.figure(figsize=(8, 5))\n",
    "bars = plt.bar(models, accuracies, yerr=std_errors, capsize=5, color='cornflowerblue', edgecolor='black')\n",
    "\n",
    "# ラベルとスタイル\n",
    "plt.ylabel(\"Accuracy\")\n",
    "plt.title(\"Model Comparison with 5-Fold Cross-Validation\")\n",
    "plt.ylim(0.8, 1)\n",
    "plt.grid(axis='y', linestyle='--', alpha=0.7)\n",
    "\n",
    "# 値を棒の上に表示（任意）\n",
    "for bar, acc in zip(bars, accuracies):\n",
    "    plt.text(bar.get_x() + bar.get_width()/2, bar.get_height() + 0.01, f\"{acc:.3f}\", ha='center', va='bottom')\n",
    "\n",
    "plt.tight_layout()\n",
    "plt.show()\n"
   ]
  },
  {
   "cell_type": "markdown",
   "metadata": {
    "id": "mnU9T-BG_u_f"
   },
   "source": [
    "## 5. まとめ"
   ]
  },
  {
   "cell_type": "markdown",
   "metadata": {
    "id": "IDN-yz-B_z-K"
   },
   "source": [
    "アルゴリズムの中では、パラメータチューニングありのSVMが最も高い精度で乳がん患者を予測することができていました。"
   ]
  },
  {
   "cell_type": "markdown",
   "metadata": {
    "id": "22y28k3J9jT7"
   },
   "source": [
    "# 参考Webページ\n",
    "\n",
    "### Pythonを用いた乳がんデータセットの分析と予測\n",
    "https://qiita.com/mahomaho/items/5e0e3fcf7d4dc881d9cd\n",
    "\n",
    "### Scikit-learn乳がん診断データセットで深層ニューラルネットワークしてみる\n",
    "https://banga-heavy.com/scikit-learn%E4%B9%B3%E3%81%8C%E3%82%93%E8%A8%BA%E6%96%AD%E3%83%87%E3%83%BC%E3%82%BF%E3%82%BB%E3%83%83%E3%83%88%E3%81%A7%E3%83%8B%E3%83%A5%E3%83%BC%E3%83%A9%E3%83%AB%E3%83%8D%E3%83%83%E3%83%88/"
   ]
  }
 ],
 "metadata": {
  "colab": {
   "provenance": []
  },
  "kernelspec": {
   "display_name": "pycaret",
   "language": "python",
   "name": "pycaret"
  },
  "language_info": {
   "codemirror_mode": {
    "name": "ipython",
    "version": 3
   },
   "file_extension": ".py",
   "mimetype": "text/x-python",
   "name": "python",
   "nbconvert_exporter": "python",
   "pygments_lexer": "ipython3",
   "version": "3.8.13"
  }
 },
 "nbformat": 4,
 "nbformat_minor": 4
}
