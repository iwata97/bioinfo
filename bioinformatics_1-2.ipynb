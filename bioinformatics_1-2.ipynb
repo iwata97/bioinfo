{
 "cells": [
  {
   "cell_type": "markdown",
   "metadata": {},
   "source": [
    "# 🎯 RNA-seqデータ解析\n",
    "## 📚 手順概要\n",
    "\n",
    "1. データ読み込み（TPMデータ）\n",
    "2. 階層的クラスタリング\n",
    "3. ボルケーノプロット\n",
    "4. 遺伝子リストの出力"
   ]
  },
  {
   "cell_type": "markdown",
   "metadata": {},
   "source": [
    "## 📥 1. データ読み込み（TPMデータ）\n",
    "関連ライブラリを読み込む"
   ]
  },
  {
   "cell_type": "code",
   "execution_count": null,
   "metadata": {
    "colab": {
     "base_uri": "https://localhost:8080/"
    },
    "id": "RTF2JwpncV3t",
    "outputId": "f2c79b65-14cb-4eda-f983-d816ced9c3e5"
   },
   "outputs": [],
   "source": [
    "# データ操作や解析に使う Python ライブラリ「pandas」を pd という名前で使えるようにするための宣言\n",
    "import pandas as pd\n",
    "\n",
    "# 数値計算ライブラリ NumPy を np という名前で使えるようにする\n",
    "import numpy as np"
   ]
  },
  {
   "cell_type": "markdown",
   "metadata": {
    "id": "VM4afstecdZJ"
   },
   "source": [
    "TPMデータをファイルから読み込む。"
   ]
  },
  {
   "cell_type": "code",
   "execution_count": null,
   "metadata": {
    "id": "sE6vJJ9-cc89"
   },
   "outputs": [],
   "source": [
    "df_tpm = pd.read_excel(\"https://github.com/iwata97/bioinfo/raw/refs/heads/main/TPM_data.xlsx\")"
   ]
  },
  {
   "cell_type": "markdown",
   "metadata": {
    "id": "DVOYACeAcioR"
   },
   "source": [
    "中身を確認してみる"
   ]
  },
  {
   "cell_type": "code",
   "execution_count": null,
   "metadata": {
    "colab": {
     "base_uri": "https://localhost:8080/",
     "height": 330
    },
    "id": "AFo2sLUYcjHG",
    "outputId": "03d59b34-a087-4db4-977a-faa64437b31f"
   },
   "outputs": [],
   "source": [
    "df_tpm.head()"
   ]
  },
  {
   "cell_type": "markdown",
   "metadata": {},
   "source": [
    "## 🌐 2. 階層的クラスタリング"
   ]
  },
  {
   "cell_type": "markdown",
   "metadata": {},
   "source": [
    "データの準備<br>\n",
    "gene列を削除し、値はlog2に変換する"
   ]
  },
  {
   "cell_type": "code",
   "execution_count": null,
   "metadata": {
    "id": "9d49lnOKfcGZ"
   },
   "outputs": [],
   "source": [
    "tpm = df_tpm.drop('gene', axis=1)\n",
    "log_tpm = np.log2(tpm + 1.0)"
   ]
  },
  {
   "cell_type": "markdown",
   "metadata": {},
   "source": [
    "行と列を入れ替える（転置）。階層的クラスタリングをする際に、行と列を入れ替えておくとやりやすいため。"
   ]
  },
  {
   "cell_type": "code",
   "execution_count": null,
   "metadata": {
    "colab": {
     "base_uri": "https://localhost:8080/",
     "height": 255
    },
    "id": "me3L6Vgacmef",
    "outputId": "1f03488a-8ed0-49cf-e0b6-cb6213d02305"
   },
   "outputs": [],
   "source": [
    "# 転置\n",
    "tpm_t = tpm.T\n",
    "tpm_t"
   ]
  },
  {
   "cell_type": "markdown",
   "metadata": {},
   "source": [
    "データセットは準備できた。<br>\n",
    "このデータを用いて、batch_1, 2, 3とchemostat_1, 2, 3の6個を階層的クラスタリングを実施する。<br>\n",
    "階層的クラスタリングとは（参照：https://datawokagaku.com/hierarchical_clustering/ ）"
   ]
  },
  {
   "cell_type": "code",
   "execution_count": null,
   "metadata": {
    "colab": {
     "base_uri": "https://localhost:8080/",
     "height": 371
    },
    "id": "RRu_bO2bc0kQ",
    "outputId": "cffc5ec1-3f1f-4126-8d62-a4bc804cfa19"
   },
   "outputs": [],
   "source": [
    "import matplotlib.pyplot as plt\n",
    "from scipy.cluster.hierarchy import linkage, dendrogram, fcluster\n",
    "\n",
    "linkage_result = linkage(tpm_t, method='ward', metric='euclidean')\n",
    "plt.figure(num=None, figsize=(16, 9), dpi=200, facecolor='w', edgecolor='k')\n",
    "dendrogram(linkage_result, labels=list(tpm_t.index))\n",
    "plt.show()"
   ]
  },
  {
   "cell_type": "markdown",
   "metadata": {},
   "source": [
    "## 🔬 3. ボルケーノプロット"
   ]
  },
  {
   "cell_type": "markdown",
   "metadata": {},
   "source": [
    "関連ライブラリを読み込む"
   ]
  },
  {
   "cell_type": "code",
   "execution_count": null,
   "metadata": {},
   "outputs": [],
   "source": [
    "import numpy as np\n",
    "import pandas as pd\n",
    "import matplotlib.pyplot as plt\n",
    "from scipy.stats import ttest_ind"
   ]
  },
  {
   "cell_type": "markdown",
   "metadata": {},
   "source": [
    "tpm DataFrame に 6サンプル（前半3つが batch、後半3つが chemostat）あるので、それぞれをlog_batchとlog_chemoに入れる。"
   ]
  },
  {
   "cell_type": "code",
   "execution_count": null,
   "metadata": {},
   "outputs": [],
   "source": [
    "log_batch = log_tpm.iloc[:, :3]\n",
    "log_chemo = log_tpm.iloc[:, 3:]"
   ]
  },
  {
   "cell_type": "markdown",
   "metadata": {},
   "source": [
    "各遺伝子について Welch のt検定を行い、fold changeとp値を計算"
   ]
  },
  {
   "cell_type": "code",
   "execution_count": null,
   "metadata": {},
   "outputs": [],
   "source": [
    "# 各遺伝子について Welch のt検定を行い、fold changeとp値を計算\n",
    "log2fc = log_chemo.mean(axis=1) - log_batch.mean(axis=1)\n",
    "pvals = []\n",
    "for i in range(len(tpm)):\n",
    "    stat, pval = ttest_ind(log_batch.iloc[i], log_chemo.iloc[i], equal_var=False)\n",
    "    pvals.append(pval)\n",
    "\n",
    "pvals = np.array(pvals)\n",
    "neg_log10_pvals = -np.log10(pvals)"
   ]
  },
  {
   "cell_type": "markdown",
   "metadata": {},
   "source": [
    "Differentially Expressed Genes（DEG）を定義する。<br>\n",
    "（fold change > 2 かつ p < 0.05）とする。"
   ]
  },
  {
   "cell_type": "code",
   "execution_count": null,
   "metadata": {},
   "outputs": [],
   "source": [
    "# DEGフラグ（fold change > 2 かつ p < 0.05）\n",
    "is_DEG = (np.abs(log2fc) > 2) & (pvals < 0.05)"
   ]
  },
  {
   "cell_type": "markdown",
   "metadata": {},
   "source": [
    "ボルケーノプロットを描く。<br>"
   ]
  },
  {
   "cell_type": "code",
   "execution_count": null,
   "metadata": {},
   "outputs": [],
   "source": [
    "# --- ボルケーノプロット ---\n",
    "fig, ax = plt.subplots(figsize=(10, 6))\n",
    "ax.grid()\n",
    "\n",
    "# 非DEG（灰色）\n",
    "ax.scatter(log2fc[~is_DEG], neg_log10_pvals[~is_DEG],\n",
    "           color='gray', alpha=0.3, label='non-DEG')\n",
    "\n",
    "# DEG（赤）\n",
    "ax.scatter(log2fc[is_DEG], neg_log10_pvals[is_DEG],\n",
    "           color='red', alpha=0.6, label='DEG')\n",
    "\n",
    "# 軸としきい値ライン\n",
    "ax.axhline(-np.log10(0.05), color='blue', linestyle='--', linewidth=1)\n",
    "ax.axvline(2, color='blue', linestyle='--', linewidth=1)\n",
    "ax.axvline(-2, color='blue', linestyle='--', linewidth=1)\n",
    "\n",
    "ax.set_xlabel('log2 fold change (chemostat - batch)')\n",
    "ax.set_ylabel('-log10(p-value)')\n",
    "ax.set_title('Volcano Plot')\n",
    "ax.legend()\n",
    "plt.show()\n"
   ]
  },
  {
   "cell_type": "markdown",
   "metadata": {},
   "source": [
    "## 練習\n",
    "DEGの定義を変えてボルケーノプロットを描いてみましょう。\n",
    "例えば、<br>\n",
    "・fold change > 3 かつ p < 0.05<br>\n",
    "・fold change > 2 かつ p < 0.01"
   ]
  },
  {
   "cell_type": "markdown",
   "metadata": {},
   "source": [
    "## 📥 4. 遺伝子リストの出力"
   ]
  },
  {
   "cell_type": "markdown",
   "metadata": {
    "id": "RhSR0E8Ze45n"
   },
   "source": [
    "次に、DEGの定義に当てはまる遺伝子のリストを出力してみる。<br>\n",
    "リストは、p値でソートしておく。"
   ]
  },
  {
   "cell_type": "code",
   "execution_count": null,
   "metadata": {
    "colab": {
     "base_uri": "https://localhost:8080/"
    },
    "id": "TIsfho9pq5zX",
    "outputId": "1a4f5cb5-09b4-4472-842d-ce2c9e07fb83"
   },
   "outputs": [],
   "source": [
    "# gene列を使って、元のデータに計算結果を統合\n",
    "results_df = df_tpm[['gene']].copy()\n",
    "results_df['log2FC'] = log2fc\n",
    "results_df['pval'] = pvals\n",
    "results_df['-log10(pval)'] = -np.log10(pvals)\n",
    "results_df['is_DEG'] = is_DEG\n",
    "\n",
    "# DEGの行だけ抽出して、p値でソート\n",
    "deg_df = results_df[results_df['is_DEG']].sort_values(by='pval')\n",
    "\n",
    "# 上位10件だけ表示（必要に応じて全件表示も可能）\n",
    "print(deg_df.head(10))\n",
    "\n",
    "# CSVに出力する場合（Google Colabならこのファイルがダウンロード可能）\n",
    "deg_df.to_csv(\"DEG_list_sorted_by_pvalue.csv\", index=False)\n"
   ]
  },
  {
   "cell_type": "code",
   "execution_count": null,
   "metadata": {},
   "outputs": [],
   "source": []
  }
 ],
 "metadata": {
  "colab": {
   "provenance": []
  },
  "kernelspec": {
   "display_name": "Python 3",
   "language": "python",
   "name": "python3"
  },
  "language_info": {
   "codemirror_mode": {
    "name": "ipython",
    "version": 3
   },
   "file_extension": ".py",
   "mimetype": "text/x-python",
   "name": "python",
   "nbconvert_exporter": "python",
   "pygments_lexer": "ipython3",
   "version": "3.8.13"
  }
 },
 "nbformat": 4,
 "nbformat_minor": 4
}
