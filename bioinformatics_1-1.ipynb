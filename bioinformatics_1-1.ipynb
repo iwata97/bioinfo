{
 "cells": [
  {
   "cell_type": "markdown",
   "metadata": {},
   "source": [
    "# 🛠 Pythonの準備（実行のやりかた・データの読み込み）"
   ]
  },
  {
   "cell_type": "markdown",
   "metadata": {
    "id": "X2BEQP-QL7ig"
   },
   "source": [
    "関連ライブラリを読み込む"
   ]
  },
  {
   "cell_type": "code",
   "execution_count": null,
   "metadata": {
    "id": "fNV5P6VJNSv8"
   },
   "outputs": [],
   "source": [
    "import pandas as pd\n",
    "import numpy as np"
   ]
  },
  {
   "cell_type": "markdown",
   "metadata": {
    "id": "zUHEOzo6NXxr"
   },
   "source": [
    "TPMデータのファイルをダウンロードしてデータをデータフレーム型で抽出する。"
   ]
  },
  {
   "cell_type": "code",
   "execution_count": null,
   "metadata": {
    "id": "B5HJi4ptNTwc"
   },
   "outputs": [],
   "source": [
    "df_tpm = pd.read_excel(\"https://github.com/iwata97/bioinfo/raw/refs/heads/main/TPM_data.xlsx\")"
   ]
  },
  {
   "cell_type": "markdown",
   "metadata": {
    "id": "ohgrvM0JN9Rc"
   },
   "source": [
    "df_tpmの中身を確認してみる"
   ]
  },
  {
   "cell_type": "code",
   "execution_count": null,
   "metadata": {
    "colab": {
     "base_uri": "https://localhost:8080/",
     "height": 579
    },
    "id": "XRA8g27XN_iO",
    "outputId": "77f65344-dab5-439b-949a-632170480bab"
   },
   "outputs": [],
   "source": [
    "df_tpm"
   ]
  },
  {
   "cell_type": "markdown",
   "metadata": {
    "id": "ZW_piPROOL6Y"
   },
   "source": [
    "全てを表示すると場所を取るので、上位5行だけ表示するには、.head()を用いる。"
   ]
  },
  {
   "cell_type": "code",
   "execution_count": null,
   "metadata": {
    "colab": {
     "base_uri": "https://localhost:8080/",
     "height": 223
    },
    "id": "ri9cSYxiOPqZ",
    "outputId": "cab15051-d95e-46fd-dbb9-c10d03f409cc"
   },
   "outputs": [],
   "source": [
    "df_tpm.head()"
   ]
  },
  {
   "cell_type": "markdown",
   "metadata": {
    "id": "Mu82ZHfHMKU3"
   },
   "source": [
    "このように上位5行のみ出力される。"
   ]
  },
  {
   "cell_type": "markdown",
   "metadata": {
    "id": "UrHy7i9barli"
   },
   "source": [
    "次に、gene列を削除する"
   ]
  },
  {
   "cell_type": "code",
   "execution_count": null,
   "metadata": {
    "colab": {
     "base_uri": "https://localhost:8080/",
     "height": 206
    },
    "id": "x-DBtJy6atjM",
    "outputId": "ff413a16-21f3-40bf-ff81-8e81644f7a0c"
   },
   "outputs": [],
   "source": [
    "tpm = df_tpm.drop('gene', axis=1)\n",
    "tpm.head()"
   ]
  },
  {
   "cell_type": "markdown",
   "metadata": {
    "id": "xGspzfARPfdu"
   },
   "source": [
    "各サンプルにおける遺伝子発現量が得られる。このうち、batch_1を例に、発現量の分布を見てみる。.iloc[:,0]によって1列目（0から数える）のデータを見る。"
   ]
  },
  {
   "cell_type": "code",
   "execution_count": null,
   "metadata": {
    "colab": {
     "base_uri": "https://localhost:8080/",
     "height": 458
    },
    "id": "Uo94s_V2ZZDC",
    "outputId": "0a7eaac6-32f6-4981-a003-40e27bfae2a8"
   },
   "outputs": [],
   "source": [
    "tpm.iloc[:,0]"
   ]
  },
  {
   "cell_type": "markdown",
   "metadata": {
    "id": "DxnVQE6VPxAi"
   },
   "source": [
    "1列目、つまりbatch_1の5983行分の発現量が見られる。このデータを使ってヒストグラムを描いてみる。"
   ]
  },
  {
   "cell_type": "code",
   "execution_count": null,
   "metadata": {
    "colab": {
     "base_uri": "https://localhost:8080/",
     "height": 449
    },
    "id": "Z8koxZwAZt_t",
    "outputId": "127b3da6-0865-4cde-90f0-6b826b7e1083"
   },
   "outputs": [],
   "source": [
    "import matplotlib.pyplot as plt\n",
    "\n",
    "x = tpm.iloc[:, 0] #batch_1のTPMデータでヒストグラムを作成する。\n",
    "fig = plt.figure()\n",
    "ax = fig.add_subplot()\n",
    "ax.hist(x, bins='scott')  # 階級の範囲の計算方法を指定する　#スコットの選択を検索\n",
    "ax.set_xlabel('TPM')\n",
    "ax.set_ylabel('frequency')\n",
    "fig.show()"
   ]
  },
  {
   "cell_type": "markdown",
   "metadata": {
    "id": "Ph16M_MeaCiz"
   },
   "source": [
    "こちらが指定しないと、x軸、y軸の範囲は自動で設定される。このデータは、ばらつきの大きいデータであることがわかる。\n",
    "データの最大値を最小値を出力してみる。"
   ]
  },
  {
   "cell_type": "code",
   "execution_count": null,
   "metadata": {
    "colab": {
     "base_uri": "https://localhost:8080/"
    },
    "id": "nWq30OnBQN6j",
    "outputId": "3831960d-0f29-4192-d493-676f8a012d18"
   },
   "outputs": [],
   "source": [
    "max_value = x.max()\n",
    "min_value = x.min()\n",
    "print('max:', max_value)\n",
    "print('min:', min_value)"
   ]
  },
  {
   "cell_type": "markdown",
   "metadata": {
    "id": "UrQh7_LtQOZk"
   },
   "source": [
    "そこで、TPM値を対数化する。TPM値が0のときは対数化でエラーがでるため、あらかじめ1.0をたしておく。"
   ]
  },
  {
   "cell_type": "code",
   "execution_count": null,
   "metadata": {
    "colab": {
     "base_uri": "https://localhost:8080/",
     "height": 206
    },
    "id": "LszJUJ_2aEN9",
    "outputId": "72c5475c-c470-4b49-c9b8-e47f02f13995"
   },
   "outputs": [],
   "source": [
    "log_tpm = np.log2(tpm + 1.0)\n",
    "log_tpm.head()"
   ]
  },
  {
   "cell_type": "markdown",
   "metadata": {
    "id": "ElqMitI0RBIB"
   },
   "source": [
    "対数化したデータで先ほどと同様にヒストグラムを描いてみる"
   ]
  },
  {
   "cell_type": "code",
   "execution_count": null,
   "metadata": {
    "colab": {
     "base_uri": "https://localhost:8080/",
     "height": 449
    },
    "id": "nohu3yoabV0x",
    "outputId": "0ed92640-64f4-4312-feba-830d0097280c"
   },
   "outputs": [],
   "source": [
    "x = log_tpm.iloc[:, 0]\n",
    "fig = plt.figure()\n",
    "ax = fig.add_subplot()\n",
    "ax.hist(x, bins='scott')  # 階級の範囲の計算方法を指定する\n",
    "ax.set_xlabel('log2(TPM)')\n",
    "ax.set_ylabel('frequency')\n",
    "fig.show()"
   ]
  },
  {
   "cell_type": "markdown",
   "metadata": {
    "id": "jOcnY7hJTpQ0"
   },
   "source": [
    "次に、batch_1とbatch_2の遺伝子発現量で、散布図を描いてみる。"
   ]
  },
  {
   "cell_type": "code",
   "execution_count": null,
   "metadata": {
    "colab": {
     "base_uri": "https://localhost:8080/",
     "height": 607
    },
    "id": "d5rVvFIlT0EB",
    "outputId": "8def4680-7b48-4faa-dcde-ea13f44dcbeb"
   },
   "outputs": [],
   "source": [
    "import seaborn as sns\n",
    "sns.jointplot(data=log_tpm, x = 'batch_1', y = 'batch_2')\n",
    "plt.show()"
   ]
  },
  {
   "cell_type": "markdown",
   "metadata": {
    "id": "3CnNAD0UUOx_"
   },
   "source": [
    "コントロールサンプル間での比較なので、差は小さい。ちなみに、相関係数は"
   ]
  },
  {
   "cell_type": "markdown",
   "metadata": {
    "id": "8FKh6T7wUEuf"
   },
   "source": [
    "batch_1とchemostat_1の遺伝子発現量で、散布図を描いてみる。"
   ]
  },
  {
   "cell_type": "code",
   "execution_count": null,
   "metadata": {
    "colab": {
     "base_uri": "https://localhost:8080/",
     "height": 607
    },
    "id": "KvYNIoVRUEiW",
    "outputId": "a47486ff-f62c-4e61-d69a-e7e38519f51a"
   },
   "outputs": [],
   "source": [
    "sns.jointplot(data=log_tpm, x = 'batch_1', y = 'chemostat_1')\n",
    "plt.show()"
   ]
  },
  {
   "cell_type": "markdown",
   "metadata": {
    "id": "g4otBnejU2q3"
   },
   "source": [
    "相関係数を計算してみる"
   ]
  },
  {
   "cell_type": "code",
   "execution_count": null,
   "metadata": {
    "colab": {
     "base_uri": "https://localhost:8080/"
    },
    "id": "Pnn-D1ZIU5Nw",
    "outputId": "2c9458d8-216b-41c8-828f-93d326f25f6a"
   },
   "outputs": [],
   "source": [
    "corr = log_tpm.corr()\n",
    "print(corr)"
   ]
  },
  {
   "cell_type": "markdown",
   "metadata": {
    "id": "LMw1C1fJb7CZ"
   },
   "source": [
    "複数の変数間（batch_1とbatch_2、batch_1とbatch_3、etc.）の総当たりでヒストグラム付きの散布図を描いてみる"
   ]
  },
  {
   "cell_type": "code",
   "execution_count": null,
   "metadata": {
    "colab": {
     "base_uri": "https://localhost:8080/",
     "height": 813
    },
    "id": "UUug5460b1vU",
    "outputId": "ea3b534a-dd43-4102-c9e8-4566c385a36c"
   },
   "outputs": [],
   "source": [
    "sns.pairplot(log_tpm, diag_kind='kde') #diag_kind=\"kde\"とすることで対角線に表示されるグラフの種類をカーネル密度推定に変更することができる。\n",
    "plt.show()"
   ]
  },
  {
   "cell_type": "markdown",
   "metadata": {
    "id": "JCGNB4dscB_Q"
   },
   "source": [
    "各遺伝子におけるchemostatの平均値とbatchの平均値を散布図にすると、以下の通りである。"
   ]
  },
  {
   "cell_type": "code",
   "execution_count": null,
   "metadata": {
    "colab": {
     "base_uri": "https://localhost:8080/",
     "height": 607
    },
    "id": "NYo67d--biYk",
    "outputId": "39406462-7d4c-4a8d-a4f3-e097d43fc726"
   },
   "outputs": [],
   "source": [
    "batch_log_tpm_mean = np.log2(tpm.iloc[:, :3].mean(axis=1).values + 1)\n",
    "chemostat_log_mean = np.log2(tpm.iloc[:, 3:].mean(axis=1).values + 1)\n",
    "\n",
    "log_tpm_lib_mean = pd.DataFrame({'batch': batch_log_tpm_mean,\n",
    "                                 'chemostat': chemostat_log_mean})\n",
    "\n",
    "sns.jointplot(data=log_tpm_lib_mean, x = 'batch', y = 'chemostat')\n",
    "plt.show()"
   ]
  },
  {
   "cell_type": "markdown",
   "metadata": {
    "id": "tAgBeP6aV18d"
   },
   "source": [
    "アドバンス：\n",
    "seabornのpairplotをカスタムして相関係数を表示する"
   ]
  },
  {
   "cell_type": "code",
   "execution_count": null,
   "metadata": {
    "id": "4q8YWVIkOljc"
   },
   "outputs": [],
   "source": [
    "import numpy as np\n",
    "import pandas as pd\n",
    "from scipy import stats\n",
    "import matplotlib.pyplot as plt\n",
    "import seaborn as sns\n",
    "%matplotlib inline\n",
    "\n",
    "def draw_hist(x, **kws):\n",
    "    plt.hist(x[~np.isnan(x)])\n",
    "\n",
    "def corr_func(x, y, **kws):\n",
    "    mask = ~np.logical_or(np.isnan(x), np.isnan(y))\n",
    "    x, y = x[mask], y[mask]\n",
    "    r, _ = stats.pearsonr(x, y)\n",
    "    ax = plt.gca()\n",
    "    ax.annotate(\"r = {:.3f}\".format(r),\n",
    "               xy=(.2, .5),\n",
    "               xycoords=ax.transAxes,\n",
    "               size=16)\n",
    "\n",
    "def pairplot(df):\n",
    "    g = sns.PairGrid(df, height=1.6, dropna=False)\n",
    "    g.map_diag(draw_hist)\n",
    "    g.map_upper(sns.regplot, scatter_kws={\"s\": 8}, line_kws={\"color\":  \"r\"})\n",
    "    g.map_lower(corr_func)"
   ]
  },
  {
   "cell_type": "code",
   "execution_count": null,
   "metadata": {
    "colab": {
     "base_uri": "https://localhost:8080/",
     "height": 817
    },
    "id": "y4_U3WcNVZ70",
    "outputId": "33619746-2e98-41a6-e466-80ab8c5d38dc"
   },
   "outputs": [],
   "source": [
    "pairplot(log_tpm)"
   ]
  },
  {
   "cell_type": "code",
   "execution_count": null,
   "metadata": {
    "id": "8l4QTrXRVn_s"
   },
   "outputs": [],
   "source": []
  }
 ],
 "metadata": {
  "colab": {
   "provenance": []
  },
  "kernelspec": {
   "display_name": "Python 3",
   "language": "python",
   "name": "python3"
  },
  "language_info": {
   "codemirror_mode": {
    "name": "ipython",
    "version": 3
   },
   "file_extension": ".py",
   "mimetype": "text/x-python",
   "name": "python",
   "nbconvert_exporter": "python",
   "pygments_lexer": "ipython3",
   "version": "3.8.13"
  }
 },
 "nbformat": 4,
 "nbformat_minor": 4
}
